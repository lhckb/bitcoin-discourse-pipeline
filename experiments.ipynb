{
 "cells": [
  {
   "cell_type": "code",
   "execution_count": 1,
   "id": "6b5dd749",
   "metadata": {},
   "outputs": [],
   "source": [
    "from steps.reddit_bronze import RedditBronze\n",
    "from steps.reddit_silver import RedditSilver"
   ]
  },
  {
   "cell_type": "code",
   "execution_count": 2,
   "id": "479db5ac",
   "metadata": {},
   "outputs": [
    {
     "data": {
      "text/html": [
       "<pre style=\"white-space:pre;overflow-x:auto;line-height:normal;font-family:Menlo,'DejaVu Sans Mono',consolas,'Courier New',monospace\"><span style=\"color: #7fbfbf; text-decoration-color: #7fbfbf\">[09/19/25 09:58:12] </span><span style=\"color: #000080; text-decoration-color: #000080\">INFO    </span> <span style=\"color: #008080; text-decoration-color: #008080; font-weight: bold\">2025</span>-<span style=\"color: #008080; text-decoration-color: #008080; font-weight: bold\">09</span>-<span style=\"color: #008080; text-decoration-color: #008080; font-weight: bold\">19</span> <span style=\"color: #00ff00; text-decoration-color: #00ff00; font-weight: bold\">09:58:12</span>,<span style=\"color: #008080; text-decoration-color: #008080; font-weight: bold\">118</span> <span style=\"font-weight: bold\">[</span>INFO<span style=\"font-weight: bold\">]</span> bitcoin_discourse_pipeline: <span style=\"font-weight: bold\">(</span><span style=\"color: #008000; text-decoration-color: #008000\">'Will </span> <a href=\"file:///Users/luiscruz/Desktop/bitcoin-sentiment/data-pipeline/steps/reddit_bronze.py\" target=\"_blank\"><span style=\"color: #7f7f7f; text-decoration-color: #7f7f7f\">reddit_bronze.py</span></a><span style=\"color: #7f7f7f; text-decoration-color: #7f7f7f\">:</span><a href=\"file:///Users/luiscruz/Desktop/bitcoin-sentiment/data-pipeline/steps/reddit_bronze.py#37\" target=\"_blank\"><span style=\"color: #7f7f7f; text-decoration-color: #7f7f7f\">37</span></a>\n",
       "<span style=\"color: #7fbfbf; text-decoration-color: #7fbfbf\">                    </span>         <span style=\"color: #008000; text-decoration-color: #008000\">the btc block size ever increase?'</span>, <span style=\"color: #008000; text-decoration-color: #008000\">'1nl1h1c'</span><span style=\"font-weight: bold\">)</span>                     <span style=\"color: #7f7f7f; text-decoration-color: #7f7f7f\">                   </span>\n",
       "</pre>\n"
      ],
      "text/plain": [
       "\u001b[2;36m[09/19/25 09:58:12]\u001b[0m\u001b[2;36m \u001b[0m\u001b[34mINFO    \u001b[0m \u001b[1;36m2025\u001b[0m-\u001b[1;36m09\u001b[0m-\u001b[1;36m19\u001b[0m \u001b[1;92m09:58:12\u001b[0m,\u001b[1;36m118\u001b[0m \u001b[1m[\u001b[0mINFO\u001b[1m]\u001b[0m bitcoin_discourse_pipeline: \u001b[1m(\u001b[0m\u001b[32m'Will \u001b[0m \u001b]8;id=784475;file:///Users/luiscruz/Desktop/bitcoin-sentiment/data-pipeline/steps/reddit_bronze.py\u001b\\\u001b[2mreddit_bronze.py\u001b[0m\u001b]8;;\u001b\\\u001b[2m:\u001b[0m\u001b]8;id=775338;file:///Users/luiscruz/Desktop/bitcoin-sentiment/data-pipeline/steps/reddit_bronze.py#37\u001b\\\u001b[2m37\u001b[0m\u001b]8;;\u001b\\\n",
       "\u001b[2;36m                    \u001b[0m         \u001b[32mthe btc block size ever increase?'\u001b[0m, \u001b[32m'1nl1h1c'\u001b[0m\u001b[1m)\u001b[0m                     \u001b[2m                   \u001b[0m\n"
      ]
     },
     "metadata": {},
     "output_type": "display_data"
    },
    {
     "data": {
      "text/html": [
       "<pre style=\"white-space:pre;overflow-x:auto;line-height:normal;font-family:Menlo,'DejaVu Sans Mono',consolas,'Courier New',monospace\"><span style=\"color: #7fbfbf; text-decoration-color: #7fbfbf\">                    </span><span style=\"color: #000080; text-decoration-color: #000080\">INFO    </span> <span style=\"color: #008080; text-decoration-color: #008080; font-weight: bold\">2025</span>-<span style=\"color: #008080; text-decoration-color: #008080; font-weight: bold\">09</span>-<span style=\"color: #008080; text-decoration-color: #008080; font-weight: bold\">19</span> <span style=\"color: #00ff00; text-decoration-color: #00ff00; font-weight: bold\">09:58:12</span>,<span style=\"color: #008080; text-decoration-color: #008080; font-weight: bold\">375</span> <span style=\"font-weight: bold\">[</span>INFO<span style=\"font-weight: bold\">]</span> bitcoin_discourse_pipeline:         <a href=\"file:///Users/luiscruz/Desktop/bitcoin-sentiment/data-pipeline/steps/reddit_bronze.py\" target=\"_blank\"><span style=\"color: #7f7f7f; text-decoration-color: #7f7f7f\">reddit_bronze.py</span></a><span style=\"color: #7f7f7f; text-decoration-color: #7f7f7f\">:</span><a href=\"file:///Users/luiscruz/Desktop/bitcoin-sentiment/data-pipeline/steps/reddit_bronze.py#37\" target=\"_blank\"><span style=\"color: #7f7f7f; text-decoration-color: #7f7f7f\">37</span></a>\n",
       "<span style=\"color: #7fbfbf; text-decoration-color: #7fbfbf\">                    </span>         <span style=\"font-weight: bold\">(</span><span style=\"color: #008000; text-decoration-color: #008000\">'Research idea: Modular BCH to end hard fork splits and unify the</span> <span style=\"color: #7f7f7f; text-decoration-color: #7f7f7f\">                   </span>\n",
       "<span style=\"color: #7fbfbf; text-decoration-color: #7fbfbf\">                    </span>         <span style=\"color: #008000; text-decoration-color: #008000\">ecosystem'</span>, <span style=\"color: #008000; text-decoration-color: #008000\">'1nl1d2c'</span><span style=\"font-weight: bold\">)</span>                                             <span style=\"color: #7f7f7f; text-decoration-color: #7f7f7f\">                   </span>\n",
       "</pre>\n"
      ],
      "text/plain": [
       "\u001b[2;36m                   \u001b[0m\u001b[2;36m \u001b[0m\u001b[34mINFO    \u001b[0m \u001b[1;36m2025\u001b[0m-\u001b[1;36m09\u001b[0m-\u001b[1;36m19\u001b[0m \u001b[1;92m09:58:12\u001b[0m,\u001b[1;36m375\u001b[0m \u001b[1m[\u001b[0mINFO\u001b[1m]\u001b[0m bitcoin_discourse_pipeline:         \u001b]8;id=184252;file:///Users/luiscruz/Desktop/bitcoin-sentiment/data-pipeline/steps/reddit_bronze.py\u001b\\\u001b[2mreddit_bronze.py\u001b[0m\u001b]8;;\u001b\\\u001b[2m:\u001b[0m\u001b]8;id=258794;file:///Users/luiscruz/Desktop/bitcoin-sentiment/data-pipeline/steps/reddit_bronze.py#37\u001b\\\u001b[2m37\u001b[0m\u001b]8;;\u001b\\\n",
       "\u001b[2;36m                    \u001b[0m         \u001b[1m(\u001b[0m\u001b[32m'Research idea: Modular BCH to end hard fork splits and unify the\u001b[0m \u001b[2m                   \u001b[0m\n",
       "\u001b[2;36m                    \u001b[0m         \u001b[32mecosystem'\u001b[0m, \u001b[32m'1nl1d2c'\u001b[0m\u001b[1m)\u001b[0m                                             \u001b[2m                   \u001b[0m\n"
      ]
     },
     "metadata": {},
     "output_type": "display_data"
    },
    {
     "data": {
      "text/html": [
       "<pre style=\"white-space:pre;overflow-x:auto;line-height:normal;font-family:Menlo,'DejaVu Sans Mono',consolas,'Courier New',monospace\"><span style=\"color: #7fbfbf; text-decoration-color: #7fbfbf\">                    </span><span style=\"color: #000080; text-decoration-color: #000080\">INFO    </span> <span style=\"color: #008080; text-decoration-color: #008080; font-weight: bold\">2025</span>-<span style=\"color: #008080; text-decoration-color: #008080; font-weight: bold\">09</span>-<span style=\"color: #008080; text-decoration-color: #008080; font-weight: bold\">19</span> <span style=\"color: #00ff00; text-decoration-color: #00ff00; font-weight: bold\">09:58:12</span>,<span style=\"color: #008080; text-decoration-color: #008080; font-weight: bold\">627</span> <span style=\"font-weight: bold\">[</span>INFO<span style=\"font-weight: bold\">]</span> bitcoin_discourse_pipeline: <span style=\"font-weight: bold\">(</span><span style=\"color: #008000; text-decoration-color: #008000\">\"It's </span> <a href=\"file:///Users/luiscruz/Desktop/bitcoin-sentiment/data-pipeline/steps/reddit_bronze.py\" target=\"_blank\"><span style=\"color: #7f7f7f; text-decoration-color: #7f7f7f\">reddit_bronze.py</span></a><span style=\"color: #7f7f7f; text-decoration-color: #7f7f7f\">:</span><a href=\"file:///Users/luiscruz/Desktop/bitcoin-sentiment/data-pipeline/steps/reddit_bronze.py#37\" target=\"_blank\"><span style=\"color: #7f7f7f; text-decoration-color: #7f7f7f\">37</span></a>\n",
       "<span style=\"color: #7fbfbf; text-decoration-color: #7fbfbf\">                    </span>         <span style=\"color: #008000; text-decoration-color: #008000\">Fusion Friday!\"</span>, <span style=\"color: #008000; text-decoration-color: #008000\">'1nl1azj'</span><span style=\"font-weight: bold\">)</span>                                        <span style=\"color: #7f7f7f; text-decoration-color: #7f7f7f\">                   </span>\n",
       "</pre>\n"
      ],
      "text/plain": [
       "\u001b[2;36m                   \u001b[0m\u001b[2;36m \u001b[0m\u001b[34mINFO    \u001b[0m \u001b[1;36m2025\u001b[0m-\u001b[1;36m09\u001b[0m-\u001b[1;36m19\u001b[0m \u001b[1;92m09:58:12\u001b[0m,\u001b[1;36m627\u001b[0m \u001b[1m[\u001b[0mINFO\u001b[1m]\u001b[0m bitcoin_discourse_pipeline: \u001b[1m(\u001b[0m\u001b[32m\"It's \u001b[0m \u001b]8;id=281826;file:///Users/luiscruz/Desktop/bitcoin-sentiment/data-pipeline/steps/reddit_bronze.py\u001b\\\u001b[2mreddit_bronze.py\u001b[0m\u001b]8;;\u001b\\\u001b[2m:\u001b[0m\u001b]8;id=366619;file:///Users/luiscruz/Desktop/bitcoin-sentiment/data-pipeline/steps/reddit_bronze.py#37\u001b\\\u001b[2m37\u001b[0m\u001b]8;;\u001b\\\n",
       "\u001b[2;36m                    \u001b[0m         \u001b[32mFusion Friday!\"\u001b[0m, \u001b[32m'1nl1azj'\u001b[0m\u001b[1m)\u001b[0m                                        \u001b[2m                   \u001b[0m\n"
      ]
     },
     "metadata": {},
     "output_type": "display_data"
    },
    {
     "data": {
      "text/html": [
       "<pre style=\"white-space:pre;overflow-x:auto;line-height:normal;font-family:Menlo,'DejaVu Sans Mono',consolas,'Courier New',monospace\"><span style=\"color: #7fbfbf; text-decoration-color: #7fbfbf\">                    </span><span style=\"color: #000080; text-decoration-color: #000080\">INFO    </span> <span style=\"color: #008080; text-decoration-color: #008080; font-weight: bold\">2025</span>-<span style=\"color: #008080; text-decoration-color: #008080; font-weight: bold\">09</span>-<span style=\"color: #008080; text-decoration-color: #008080; font-weight: bold\">19</span> <span style=\"color: #00ff00; text-decoration-color: #00ff00; font-weight: bold\">09:58:12</span>,<span style=\"color: #008080; text-decoration-color: #008080; font-weight: bold\">847</span> <span style=\"font-weight: bold\">[</span>INFO<span style=\"font-weight: bold\">]</span> bitcoin_discourse_pipeline:         <a href=\"file:///Users/luiscruz/Desktop/bitcoin-sentiment/data-pipeline/steps/reddit_bronze.py\" target=\"_blank\"><span style=\"color: #7f7f7f; text-decoration-color: #7f7f7f\">reddit_bronze.py</span></a><span style=\"color: #7f7f7f; text-decoration-color: #7f7f7f\">:</span><a href=\"file:///Users/luiscruz/Desktop/bitcoin-sentiment/data-pipeline/steps/reddit_bronze.py#37\" target=\"_blank\"><span style=\"color: #7f7f7f; text-decoration-color: #7f7f7f\">37</span></a>\n",
       "<span style=\"color: #7fbfbf; text-decoration-color: #7fbfbf\">                    </span>         <span style=\"font-weight: bold\">(</span><span style=\"color: #008000; text-decoration-color: #008000\">'Kraken – the exchange I should have joined earlier! Get $50 for </span> <span style=\"color: #7f7f7f; text-decoration-color: #7f7f7f\">                   </span>\n",
       "<span style=\"color: #7fbfbf; text-decoration-color: #7fbfbf\">                    </span>         <span style=\"color: #008000; text-decoration-color: #008000\">joining'</span>, <span style=\"color: #008000; text-decoration-color: #008000\">'1nl0oet'</span><span style=\"font-weight: bold\">)</span>                                               <span style=\"color: #7f7f7f; text-decoration-color: #7f7f7f\">                   </span>\n",
       "</pre>\n"
      ],
      "text/plain": [
       "\u001b[2;36m                   \u001b[0m\u001b[2;36m \u001b[0m\u001b[34mINFO    \u001b[0m \u001b[1;36m2025\u001b[0m-\u001b[1;36m09\u001b[0m-\u001b[1;36m19\u001b[0m \u001b[1;92m09:58:12\u001b[0m,\u001b[1;36m847\u001b[0m \u001b[1m[\u001b[0mINFO\u001b[1m]\u001b[0m bitcoin_discourse_pipeline:         \u001b]8;id=1495;file:///Users/luiscruz/Desktop/bitcoin-sentiment/data-pipeline/steps/reddit_bronze.py\u001b\\\u001b[2mreddit_bronze.py\u001b[0m\u001b]8;;\u001b\\\u001b[2m:\u001b[0m\u001b]8;id=201434;file:///Users/luiscruz/Desktop/bitcoin-sentiment/data-pipeline/steps/reddit_bronze.py#37\u001b\\\u001b[2m37\u001b[0m\u001b]8;;\u001b\\\n",
       "\u001b[2;36m                    \u001b[0m         \u001b[1m(\u001b[0m\u001b[32m'Kraken – the exchange I should have joined earlier! Get $50 for \u001b[0m \u001b[2m                   \u001b[0m\n",
       "\u001b[2;36m                    \u001b[0m         \u001b[32mjoining'\u001b[0m, \u001b[32m'1nl0oet'\u001b[0m\u001b[1m)\u001b[0m                                               \u001b[2m                   \u001b[0m\n"
      ]
     },
     "metadata": {},
     "output_type": "display_data"
    },
    {
     "data": {
      "text/html": [
       "<pre style=\"white-space:pre;overflow-x:auto;line-height:normal;font-family:Menlo,'DejaVu Sans Mono',consolas,'Courier New',monospace\"><span style=\"color: #7fbfbf; text-decoration-color: #7fbfbf\">[09/19/25 09:58:13] </span><span style=\"color: #000080; text-decoration-color: #000080\">INFO    </span> <span style=\"color: #008080; text-decoration-color: #008080; font-weight: bold\">2025</span>-<span style=\"color: #008080; text-decoration-color: #008080; font-weight: bold\">09</span>-<span style=\"color: #008080; text-decoration-color: #008080; font-weight: bold\">19</span> <span style=\"color: #00ff00; text-decoration-color: #00ff00; font-weight: bold\">09:58:13</span>,<span style=\"color: #008080; text-decoration-color: #008080; font-weight: bold\">082</span> <span style=\"font-weight: bold\">[</span>INFO<span style=\"font-weight: bold\">]</span> bitcoin_discourse_pipeline:         <a href=\"file:///Users/luiscruz/Desktop/bitcoin-sentiment/data-pipeline/steps/reddit_bronze.py\" target=\"_blank\"><span style=\"color: #7f7f7f; text-decoration-color: #7f7f7f\">reddit_bronze.py</span></a><span style=\"color: #7f7f7f; text-decoration-color: #7f7f7f\">:</span><a href=\"file:///Users/luiscruz/Desktop/bitcoin-sentiment/data-pipeline/steps/reddit_bronze.py#37\" target=\"_blank\"><span style=\"color: #7f7f7f; text-decoration-color: #7f7f7f\">37</span></a>\n",
       "<span style=\"color: #7fbfbf; text-decoration-color: #7fbfbf\">                    </span>         <span style=\"font-weight: bold\">(</span><span style=\"color: #008000; text-decoration-color: #008000\">'Kraken – the exchange I should have joined earlier! Get $50 for </span> <span style=\"color: #7f7f7f; text-decoration-color: #7f7f7f\">                   </span>\n",
       "<span style=\"color: #7fbfbf; text-decoration-color: #7fbfbf\">                    </span>         <span style=\"color: #008000; text-decoration-color: #008000\">joining'</span>, <span style=\"color: #008000; text-decoration-color: #008000\">'1nl0nll'</span><span style=\"font-weight: bold\">)</span>                                               <span style=\"color: #7f7f7f; text-decoration-color: #7f7f7f\">                   </span>\n",
       "</pre>\n"
      ],
      "text/plain": [
       "\u001b[2;36m[09/19/25 09:58:13]\u001b[0m\u001b[2;36m \u001b[0m\u001b[34mINFO    \u001b[0m \u001b[1;36m2025\u001b[0m-\u001b[1;36m09\u001b[0m-\u001b[1;36m19\u001b[0m \u001b[1;92m09:58:13\u001b[0m,\u001b[1;36m082\u001b[0m \u001b[1m[\u001b[0mINFO\u001b[1m]\u001b[0m bitcoin_discourse_pipeline:         \u001b]8;id=545132;file:///Users/luiscruz/Desktop/bitcoin-sentiment/data-pipeline/steps/reddit_bronze.py\u001b\\\u001b[2mreddit_bronze.py\u001b[0m\u001b]8;;\u001b\\\u001b[2m:\u001b[0m\u001b]8;id=998104;file:///Users/luiscruz/Desktop/bitcoin-sentiment/data-pipeline/steps/reddit_bronze.py#37\u001b\\\u001b[2m37\u001b[0m\u001b]8;;\u001b\\\n",
       "\u001b[2;36m                    \u001b[0m         \u001b[1m(\u001b[0m\u001b[32m'Kraken – the exchange I should have joined earlier! Get $50 for \u001b[0m \u001b[2m                   \u001b[0m\n",
       "\u001b[2;36m                    \u001b[0m         \u001b[32mjoining'\u001b[0m, \u001b[32m'1nl0nll'\u001b[0m\u001b[1m)\u001b[0m                                               \u001b[2m                   \u001b[0m\n"
      ]
     },
     "metadata": {},
     "output_type": "display_data"
    },
    {
     "data": {
      "text/html": [
       "<pre style=\"white-space:pre;overflow-x:auto;line-height:normal;font-family:Menlo,'DejaVu Sans Mono',consolas,'Courier New',monospace\"><span style=\"color: #7fbfbf; text-decoration-color: #7fbfbf\">                    </span><span style=\"color: #000080; text-decoration-color: #000080\">INFO    </span> <span style=\"color: #008080; text-decoration-color: #008080; font-weight: bold\">2025</span>-<span style=\"color: #008080; text-decoration-color: #008080; font-weight: bold\">09</span>-<span style=\"color: #008080; text-decoration-color: #008080; font-weight: bold\">19</span> <span style=\"color: #00ff00; text-decoration-color: #00ff00; font-weight: bold\">09:58:13</span>,<span style=\"color: #008080; text-decoration-color: #008080; font-weight: bold\">354</span> <span style=\"font-weight: bold\">[</span>INFO<span style=\"font-weight: bold\">]</span> bitcoin_discourse_pipeline: Query   <a href=\"file:///Users/luiscruz/Desktop/bitcoin-sentiment/data-pipeline/steps/reddit_bronze.py\" target=\"_blank\"><span style=\"color: #7f7f7f; text-decoration-color: #7f7f7f\">reddit_bronze.py</span></a><span style=\"color: #7f7f7f; text-decoration-color: #7f7f7f\">:</span><a href=\"file:///Users/luiscruz/Desktop/bitcoin-sentiment/data-pipeline/steps/reddit_bronze.py#57\" target=\"_blank\"><span style=\"color: #7f7f7f; text-decoration-color: #7f7f7f\">57</span></a>\n",
       "<span style=\"color: #7fbfbf; text-decoration-color: #7fbfbf\">                    </span>         ended in <span style=\"color: #008080; text-decoration-color: #008080; font-weight: bold\">2.4073667526245117</span> seconds                                <span style=\"color: #7f7f7f; text-decoration-color: #7f7f7f\">                   </span>\n",
       "</pre>\n"
      ],
      "text/plain": [
       "\u001b[2;36m                   \u001b[0m\u001b[2;36m \u001b[0m\u001b[34mINFO    \u001b[0m \u001b[1;36m2025\u001b[0m-\u001b[1;36m09\u001b[0m-\u001b[1;36m19\u001b[0m \u001b[1;92m09:58:13\u001b[0m,\u001b[1;36m354\u001b[0m \u001b[1m[\u001b[0mINFO\u001b[1m]\u001b[0m bitcoin_discourse_pipeline: Query   \u001b]8;id=997625;file:///Users/luiscruz/Desktop/bitcoin-sentiment/data-pipeline/steps/reddit_bronze.py\u001b\\\u001b[2mreddit_bronze.py\u001b[0m\u001b]8;;\u001b\\\u001b[2m:\u001b[0m\u001b]8;id=838215;file:///Users/luiscruz/Desktop/bitcoin-sentiment/data-pipeline/steps/reddit_bronze.py#57\u001b\\\u001b[2m57\u001b[0m\u001b]8;;\u001b\\\n",
       "\u001b[2;36m                    \u001b[0m         ended in \u001b[1;36m2.4073667526245117\u001b[0m seconds                                \u001b[2m                   \u001b[0m\n"
      ]
     },
     "metadata": {},
     "output_type": "display_data"
    }
   ],
   "source": [
    "bronze = RedditBronze()\n",
    "\n",
    "results = bronze.query_reddit_for_discourse()\n",
    "\n",
    "silver = RedditSilver(results)\n"
   ]
  },
  {
   "cell_type": "code",
   "execution_count": 3,
   "id": "adbabfe1",
   "metadata": {},
   "outputs": [
    {
     "data": {
      "text/html": [
       "<div><style>\n",
       ".dataframe > thead > tr,\n",
       ".dataframe > tbody > tr {\n",
       "  text-align: right;\n",
       "  white-space: pre-wrap;\n",
       "}\n",
       "</style>\n",
       "<small>shape: (5, 8)</small><table border=\"1\" class=\"dataframe\"><thead><tr><th>origin</th><th>author</th><th>query_start_time</th><th>post_id</th><th>post_title</th><th>post_selftext</th><th>post_created_utc</th><th>comments</th></tr><tr><td>str</td><td>str</td><td>f64</td><td>str</td><td>str</td><td>str</td><td>f64</td><td>list[struct[4]]</td></tr></thead><tbody><tr><td>&quot;reddit&quot;</td><td>&quot;Local_Tangerine9532&quot;</td><td>1.7583e9</td><td>&quot;1nl1h1c&quot;</td><td>&quot;Will the btc block size ever i…</td><td>&quot;Let&#x27;s pretend that lightning i…</td><td>1.7583e9</td><td>[{&quot;nf21q5l&quot;,&quot;PanneKopp&quot;,&quot;no, otherwise they would have to admit they were wrong in 2017 - just use the working fork called Bitcoin Cash BCH&quot;,1.7583e9}, {&quot;nf23c87&quot;,&quot;Realistic_Fee_00001&quot;,&quot;As long as Core exists: No.\n",
       "\n",
       "And even then, you have abominations like Segwit, Taproot and mandatory RBF to deal with.\n",
       "\n",
       "\n",
       "Push BCH, it&#x27;s the working scaling Bitcoin. You can wait till your dead or you can trade into the better Bitcoin in a few seconds.&quot;,1.7583e9}, … {&quot;nf27q79&quot;,&quot;Local_Tangerine9532&quot;,&quot;Can you share said research?&quot;,1.7583e9}]</td></tr><tr><td>&quot;reddit&quot;</td><td>&quot;QuickDaikon1&quot;</td><td>1.7583e9</td><td>&quot;1nl1d2c&quot;</td><td>&quot;Research idea: Modular BCH to …</td><td>&quot;Bitcoin Cash today is a monoli…</td><td>1.7583e9</td><td>[{&quot;nf21z44&quot;,&quot;QuickDaikon1&quot;,&quot;I think u/bitjson might be interested to share his thoughts. The base layer (kernel) stays simple PoW, 21M cap, UTXOs while modules are like apps running on top, each with its own rules, all paying BCH fees to miners. One chain rather than many. This also give the ability for cashtoken to adopt their own consensus native interoperability between modules, similar to Cosmos IBC but inside one chain.&quot;,1.7583e9}, {&quot;nf23ap8&quot;,&quot;QuickDaikon1&quot;,&quot;Basically a summarized title would be Cosmos IBC but inside one PoW chain, with BCH as the single fee Coin and ultimate settlement layer.&quot;,1.7583e9}, {&quot;nf2982m&quot;,&quot;LovelyDayHere&quot;,&quot;Breaking the existing block header format is a very big deal, it essentially cuts BCH off from existing SHA256 security.\n",
       "\n",
       "The ability to mine BCH as-is, just like Bitcoin with a swap of the node software, is what makes it attractive to current miners... economically it could be quite hazardous to deviate from the established POW ecosystem.\n",
       "\n",
       "With this in mind, I think the ideas of fostering such a diverse ecosystem built on top of the base chain, are worth exploring.&quot;,1.7583e9}]</td></tr><tr><td>&quot;reddit&quot;</td><td>&quot;Realistic_Fee_00001&quot;</td><td>1.7583e9</td><td>&quot;1nl1azj&quot;</td><td>&quot;It&#x27;s Fusion Friday!&quot;</td><td>&quot;&quot;</td><td>1.7583e9</td><td>[]</td></tr><tr><td>&quot;reddit&quot;</td><td>&quot;Teqtoke&quot;</td><td>1.7583e9</td><td>&quot;1nl0oet&quot;</td><td>&quot;Kraken – the exchange I should…</td><td>&quot;&quot;</td><td>1.7583e9</td><td>[{&quot;nf1vbip&quot;,&quot;Teqtoke&quot;,&quot;I had been using OTC options, and have tried a few exchanges as well, but with the CAD/BTC trading pair, the fees/spread are lower. It’s a game changer&quot;,1.7583e9}]</td></tr><tr><td>&quot;reddit&quot;</td><td>&quot;Teqtoke&quot;</td><td>1.7583e9</td><td>&quot;1nl0nll&quot;</td><td>&quot;Kraken – the exchange I should…</td><td>&quot;Title really says it all, but …</td><td>1.7583e9</td><td>[{&quot;nf1ua6u&quot;,&quot;AutoModerator&quot;,&quot;This is a friendly reminder that Kraken Support will never DM you first, ask for your username or password, or ask you to transfer funds. Kraken has its own subreddits, [r/KrakenSupport](https://www.reddit.com/r/KrakenSupport/) and [r/Kraken](https://www.reddit.com/r/Kraken/), and their [Support Center](http://support.kraken.com/).\n",
       "\n",
       "Ping for verified users associated with Kraken: /u/krakensupport /u/krakenexchange\n",
       "\n",
       "*I am a bot, and this action was performed automatically. Please [contact the moderators of this subreddit](/message/compose/?to=/r/CryptoCurrency) if you have any questions or concerns.*&quot;,1.7583e9}, {&quot;nf1v9gs&quot;,null,&quot;[removed]&quot;,1.7583e9}, … {&quot;nf29yqs&quot;,&quot;Teqtoke&quot;,&quot;But it’s a US exchange? And they have EUR trading pairs&quot;,1.7583e9}]</td></tr></tbody></table></div>"
      ],
      "text/plain": [
       "shape: (5, 8)\n",
       "┌────────┬─────────────┬─────────────┬─────────┬────────────┬────────────┬────────────┬────────────┐\n",
       "│ origin ┆ author      ┆ query_start ┆ post_id ┆ post_title ┆ post_selft ┆ post_creat ┆ comments   │\n",
       "│ ---    ┆ ---         ┆ _time       ┆ ---     ┆ ---        ┆ ext        ┆ ed_utc     ┆ ---        │\n",
       "│ str    ┆ str         ┆ ---         ┆ str     ┆ str        ┆ ---        ┆ ---        ┆ list[struc │\n",
       "│        ┆             ┆ f64         ┆         ┆            ┆ str        ┆ f64        ┆ t[4]]      │\n",
       "╞════════╪═════════════╪═════════════╪═════════╪════════════╪════════════╪════════════╪════════════╡\n",
       "│ reddit ┆ Local_Tange ┆ 1.7583e9    ┆ 1nl1h1c ┆ Will the   ┆ Let's      ┆ 1.7583e9   ┆ [{\"nf21q5l │\n",
       "│        ┆ rine9532    ┆             ┆         ┆ btc block  ┆ pretend    ┆            ┆ \",\"PanneKo │\n",
       "│        ┆             ┆             ┆         ┆ size ever  ┆ that       ┆            ┆ pp\",\"no,   │\n",
       "│        ┆             ┆             ┆         ┆ i…         ┆ lightning  ┆            ┆ o…         │\n",
       "│        ┆             ┆             ┆         ┆            ┆ i…         ┆            ┆            │\n",
       "│ reddit ┆ QuickDaikon ┆ 1.7583e9    ┆ 1nl1d2c ┆ Research   ┆ Bitcoin    ┆ 1.7583e9   ┆ [{\"nf21z44 │\n",
       "│        ┆ 1           ┆             ┆         ┆ idea:      ┆ Cash today ┆            ┆ \",\"QuickDa │\n",
       "│        ┆             ┆             ┆         ┆ Modular    ┆ is a       ┆            ┆ ikon1\",\"I  │\n",
       "│        ┆             ┆             ┆         ┆ BCH to …   ┆ monoli…    ┆            ┆ …          │\n",
       "│ reddit ┆ Realistic_F ┆ 1.7583e9    ┆ 1nl1azj ┆ It's       ┆            ┆ 1.7583e9   ┆ []         │\n",
       "│        ┆ ee_00001    ┆             ┆         ┆ Fusion     ┆            ┆            ┆            │\n",
       "│        ┆             ┆             ┆         ┆ Friday!    ┆            ┆            ┆            │\n",
       "│ reddit ┆ Teqtoke     ┆ 1.7583e9    ┆ 1nl0oet ┆ Kraken –   ┆            ┆ 1.7583e9   ┆ [{\"nf1vbip │\n",
       "│        ┆             ┆             ┆         ┆ the        ┆            ┆            ┆ \",\"Teqtoke │\n",
       "│        ┆             ┆             ┆         ┆ exchange I ┆            ┆            ┆ \",\"I had   │\n",
       "│        ┆             ┆             ┆         ┆ should…    ┆            ┆            ┆ b…         │\n",
       "│ reddit ┆ Teqtoke     ┆ 1.7583e9    ┆ 1nl0nll ┆ Kraken –   ┆ Title      ┆ 1.7583e9   ┆ [{\"nf1ua6u │\n",
       "│        ┆             ┆             ┆         ┆ the        ┆ really     ┆            ┆ \",\"AutoMod │\n",
       "│        ┆             ┆             ┆         ┆ exchange I ┆ says it    ┆            ┆ erator\",\"T │\n",
       "│        ┆             ┆             ┆         ┆ should…    ┆ all, but … ┆            ┆ …          │\n",
       "└────────┴─────────────┴─────────────┴─────────┴────────────┴────────────┴────────────┴────────────┘"
      ]
     },
     "execution_count": 3,
     "metadata": {},
     "output_type": "execute_result"
    }
   ],
   "source": [
    "silver.posts_df.head(\n",
    "    \n",
    ")"
   ]
  },
  {
   "cell_type": "code",
   "execution_count": 4,
   "id": "ae488ed9",
   "metadata": {},
   "outputs": [
    {
     "data": {
      "text/html": [
       "<pre style=\"white-space:pre;overflow-x:auto;line-height:normal;font-family:Menlo,'DejaVu Sans Mono',consolas,'Courier New',monospace\"><span style=\"color: #7fbfbf; text-decoration-color: #7fbfbf\">                    </span><span style=\"color: #000080; text-decoration-color: #000080\">INFO    </span> <span style=\"color: #008080; text-decoration-color: #008080; font-weight: bold\">2025</span>-<span style=\"color: #008080; text-decoration-color: #008080; font-weight: bold\">09</span>-<span style=\"color: #008080; text-decoration-color: #008080; font-weight: bold\">19</span> <span style=\"color: #00ff00; text-decoration-color: #00ff00; font-weight: bold\">09:58:13</span>,<span style=\"color: #008080; text-decoration-color: #008080; font-weight: bold\">541</span> <span style=\"font-weight: bold\">[</span>INFO<span style=\"font-weight: bold\">]</span> bitcoin_discourse_pipeline: Created <a href=\"file:///Users/luiscruz/Desktop/bitcoin-sentiment/data-pipeline/steps/reddit_silver.py\" target=\"_blank\"><span style=\"color: #7f7f7f; text-decoration-color: #7f7f7f\">reddit_silver.py</span></a><span style=\"color: #7f7f7f; text-decoration-color: #7f7f7f\">:</span><a href=\"file:///Users/luiscruz/Desktop/bitcoin-sentiment/data-pipeline/steps/reddit_silver.py#37\" target=\"_blank\"><span style=\"color: #7f7f7f; text-decoration-color: #7f7f7f\">37</span></a>\n",
       "<span style=\"color: #7fbfbf; text-decoration-color: #7fbfbf\">                    </span>         separate DF for comments                                           <span style=\"color: #7f7f7f; text-decoration-color: #7f7f7f\">                   </span>\n",
       "</pre>\n"
      ],
      "text/plain": [
       "\u001b[2;36m                   \u001b[0m\u001b[2;36m \u001b[0m\u001b[34mINFO    \u001b[0m \u001b[1;36m2025\u001b[0m-\u001b[1;36m09\u001b[0m-\u001b[1;36m19\u001b[0m \u001b[1;92m09:58:13\u001b[0m,\u001b[1;36m541\u001b[0m \u001b[1m[\u001b[0mINFO\u001b[1m]\u001b[0m bitcoin_discourse_pipeline: Created \u001b]8;id=235705;file:///Users/luiscruz/Desktop/bitcoin-sentiment/data-pipeline/steps/reddit_silver.py\u001b\\\u001b[2mreddit_silver.py\u001b[0m\u001b]8;;\u001b\\\u001b[2m:\u001b[0m\u001b]8;id=861293;file:///Users/luiscruz/Desktop/bitcoin-sentiment/data-pipeline/steps/reddit_silver.py#37\u001b\\\u001b[2m37\u001b[0m\u001b]8;;\u001b\\\n",
       "\u001b[2;36m                    \u001b[0m         separate DF for comments                                           \u001b[2m                   \u001b[0m\n"
      ]
     },
     "metadata": {},
     "output_type": "display_data"
    },
    {
     "data": {
      "text/html": [
       "<pre style=\"white-space:pre;overflow-x:auto;line-height:normal;font-family:Menlo,'DejaVu Sans Mono',consolas,'Courier New',monospace\"><span style=\"color: #7fbfbf; text-decoration-color: #7fbfbf\">                    </span><span style=\"color: #000080; text-decoration-color: #000080\">INFO    </span> <span style=\"color: #008080; text-decoration-color: #008080; font-weight: bold\">2025</span>-<span style=\"color: #008080; text-decoration-color: #008080; font-weight: bold\">09</span>-<span style=\"color: #008080; text-decoration-color: #008080; font-weight: bold\">19</span> <span style=\"color: #00ff00; text-decoration-color: #00ff00; font-weight: bold\">09:58:13</span>,<span style=\"color: #008080; text-decoration-color: #008080; font-weight: bold\">546</span> <span style=\"font-weight: bold\">[</span>INFO<span style=\"font-weight: bold\">]</span> bitcoin_discourse_pipeline: Added   <a href=\"file:///Users/luiscruz/Desktop/bitcoin-sentiment/data-pipeline/steps/reddit_silver.py\" target=\"_blank\"><span style=\"color: #7f7f7f; text-decoration-color: #7f7f7f\">reddit_silver.py</span></a><span style=\"color: #7f7f7f; text-decoration-color: #7f7f7f\">:</span><a href=\"file:///Users/luiscruz/Desktop/bitcoin-sentiment/data-pipeline/steps/reddit_silver.py#47\" target=\"_blank\"><span style=\"color: #7f7f7f; text-decoration-color: #7f7f7f\">47</span></a>\n",
       "<span style=\"color: #7fbfbf; text-decoration-color: #7fbfbf\">                    </span>         metadata: original text fields char count                          <span style=\"color: #7f7f7f; text-decoration-color: #7f7f7f\">                   </span>\n",
       "</pre>\n"
      ],
      "text/plain": [
       "\u001b[2;36m                   \u001b[0m\u001b[2;36m \u001b[0m\u001b[34mINFO    \u001b[0m \u001b[1;36m2025\u001b[0m-\u001b[1;36m09\u001b[0m-\u001b[1;36m19\u001b[0m \u001b[1;92m09:58:13\u001b[0m,\u001b[1;36m546\u001b[0m \u001b[1m[\u001b[0mINFO\u001b[1m]\u001b[0m bitcoin_discourse_pipeline: Added   \u001b]8;id=492897;file:///Users/luiscruz/Desktop/bitcoin-sentiment/data-pipeline/steps/reddit_silver.py\u001b\\\u001b[2mreddit_silver.py\u001b[0m\u001b]8;;\u001b\\\u001b[2m:\u001b[0m\u001b]8;id=758402;file:///Users/luiscruz/Desktop/bitcoin-sentiment/data-pipeline/steps/reddit_silver.py#47\u001b\\\u001b[2m47\u001b[0m\u001b]8;;\u001b\\\n",
       "\u001b[2;36m                    \u001b[0m         metadata: original text fields char count                          \u001b[2m                   \u001b[0m\n"
      ]
     },
     "metadata": {},
     "output_type": "display_data"
    },
    {
     "data": {
      "text/html": [
       "<pre style=\"white-space:pre;overflow-x:auto;line-height:normal;font-family:Menlo,'DejaVu Sans Mono',consolas,'Courier New',monospace\"><span style=\"color: #7fbfbf; text-decoration-color: #7fbfbf\">                    </span><span style=\"color: #000080; text-decoration-color: #000080\">INFO    </span> <span style=\"color: #008080; text-decoration-color: #008080; font-weight: bold\">2025</span>-<span style=\"color: #008080; text-decoration-color: #008080; font-weight: bold\">09</span>-<span style=\"color: #008080; text-decoration-color: #008080; font-weight: bold\">19</span> <span style=\"color: #00ff00; text-decoration-color: #00ff00; font-weight: bold\">09:58:13</span>,<span style=\"color: #008080; text-decoration-color: #008080; font-weight: bold\">564</span> <span style=\"font-weight: bold\">[</span>INFO<span style=\"font-weight: bold\">]</span> bitcoin_discourse_pipeline: Removed <a href=\"file:///Users/luiscruz/Desktop/bitcoin-sentiment/data-pipeline/steps/reddit_silver.py\" target=\"_blank\"><span style=\"color: #7f7f7f; text-decoration-color: #7f7f7f\">reddit_silver.py</span></a><span style=\"color: #7f7f7f; text-decoration-color: #7f7f7f\">:</span><a href=\"file:///Users/luiscruz/Desktop/bitcoin-sentiment/data-pipeline/steps/reddit_silver.py#61\" target=\"_blank\"><span style=\"color: #7f7f7f; text-decoration-color: #7f7f7f\">61</span></a>\n",
       "<span style=\"color: #7fbfbf; text-decoration-color: #7fbfbf\">                    </span>         duplicates by filtering equal IDs and text bodies                  <span style=\"color: #7f7f7f; text-decoration-color: #7f7f7f\">                   </span>\n",
       "</pre>\n"
      ],
      "text/plain": [
       "\u001b[2;36m                   \u001b[0m\u001b[2;36m \u001b[0m\u001b[34mINFO    \u001b[0m \u001b[1;36m2025\u001b[0m-\u001b[1;36m09\u001b[0m-\u001b[1;36m19\u001b[0m \u001b[1;92m09:58:13\u001b[0m,\u001b[1;36m564\u001b[0m \u001b[1m[\u001b[0mINFO\u001b[1m]\u001b[0m bitcoin_discourse_pipeline: Removed \u001b]8;id=227441;file:///Users/luiscruz/Desktop/bitcoin-sentiment/data-pipeline/steps/reddit_silver.py\u001b\\\u001b[2mreddit_silver.py\u001b[0m\u001b]8;;\u001b\\\u001b[2m:\u001b[0m\u001b]8;id=391039;file:///Users/luiscruz/Desktop/bitcoin-sentiment/data-pipeline/steps/reddit_silver.py#61\u001b\\\u001b[2m61\u001b[0m\u001b]8;;\u001b\\\n",
       "\u001b[2;36m                    \u001b[0m         duplicates by filtering equal IDs and text bodies                  \u001b[2m                   \u001b[0m\n"
      ]
     },
     "metadata": {},
     "output_type": "display_data"
    },
    {
     "data": {
      "text/html": [
       "<pre style=\"white-space:pre;overflow-x:auto;line-height:normal;font-family:Menlo,'DejaVu Sans Mono',consolas,'Courier New',monospace\"><span style=\"color: #7fbfbf; text-decoration-color: #7fbfbf\">                    </span><span style=\"color: #000080; text-decoration-color: #000080\">INFO    </span> <span style=\"color: #008080; text-decoration-color: #008080; font-weight: bold\">2025</span>-<span style=\"color: #008080; text-decoration-color: #008080; font-weight: bold\">09</span>-<span style=\"color: #008080; text-decoration-color: #008080; font-weight: bold\">19</span> <span style=\"color: #00ff00; text-decoration-color: #00ff00; font-weight: bold\">09:58:13</span>,<span style=\"color: #008080; text-decoration-color: #008080; font-weight: bold\">575</span> <span style=\"font-weight: bold\">[</span>INFO<span style=\"font-weight: bold\">]</span> bitcoin_discourse_pipeline: Filter  <a href=\"file:///Users/luiscruz/Desktop/bitcoin-sentiment/data-pipeline/steps/reddit_silver.py\" target=\"_blank\"><span style=\"color: #7f7f7f; text-decoration-color: #7f7f7f\">reddit_silver.py</span></a><span style=\"color: #7f7f7f; text-decoration-color: #7f7f7f\">:</span><a href=\"file:///Users/luiscruz/Desktop/bitcoin-sentiment/data-pipeline/steps/reddit_silver.py#85\" target=\"_blank\"><span style=\"color: #7f7f7f; text-decoration-color: #7f7f7f\">85</span></a>\n",
       "<span style=\"color: #7fbfbf; text-decoration-color: #7fbfbf\">                    </span>         out rows where all text bodies are empty                           <span style=\"color: #7f7f7f; text-decoration-color: #7f7f7f\">                   </span>\n",
       "</pre>\n"
      ],
      "text/plain": [
       "\u001b[2;36m                   \u001b[0m\u001b[2;36m \u001b[0m\u001b[34mINFO    \u001b[0m \u001b[1;36m2025\u001b[0m-\u001b[1;36m09\u001b[0m-\u001b[1;36m19\u001b[0m \u001b[1;92m09:58:13\u001b[0m,\u001b[1;36m575\u001b[0m \u001b[1m[\u001b[0mINFO\u001b[1m]\u001b[0m bitcoin_discourse_pipeline: Filter  \u001b]8;id=789992;file:///Users/luiscruz/Desktop/bitcoin-sentiment/data-pipeline/steps/reddit_silver.py\u001b\\\u001b[2mreddit_silver.py\u001b[0m\u001b]8;;\u001b\\\u001b[2m:\u001b[0m\u001b]8;id=452913;file:///Users/luiscruz/Desktop/bitcoin-sentiment/data-pipeline/steps/reddit_silver.py#85\u001b\\\u001b[2m85\u001b[0m\u001b]8;;\u001b\\\n",
       "\u001b[2;36m                    \u001b[0m         out rows where all text bodies are empty                           \u001b[2m                   \u001b[0m\n"
      ]
     },
     "metadata": {},
     "output_type": "display_data"
    },
    {
     "data": {
      "text/html": [
       "<pre style=\"white-space:pre;overflow-x:auto;line-height:normal;font-family:Menlo,'DejaVu Sans Mono',consolas,'Courier New',monospace\"><span style=\"color: #7fbfbf; text-decoration-color: #7fbfbf\">                    </span><span style=\"color: #000080; text-decoration-color: #000080\">INFO    </span> <span style=\"color: #008080; text-decoration-color: #008080; font-weight: bold\">2025</span>-<span style=\"color: #008080; text-decoration-color: #008080; font-weight: bold\">09</span>-<span style=\"color: #008080; text-decoration-color: #008080; font-weight: bold\">19</span> <span style=\"color: #00ff00; text-decoration-color: #00ff00; font-weight: bold\">09:58:13</span>,<span style=\"color: #008080; text-decoration-color: #008080; font-weight: bold\">879</span> <span style=\"font-weight: bold\">[</span>INFO<span style=\"font-weight: bold\">]</span> bitcoin_discourse_pipeline:         <a href=\"file:///Users/luiscruz/Desktop/bitcoin-sentiment/data-pipeline/steps/reddit_silver.py\" target=\"_blank\"><span style=\"color: #7f7f7f; text-decoration-color: #7f7f7f\">reddit_silver.py</span></a><span style=\"color: #7f7f7f; text-decoration-color: #7f7f7f\">:</span><a href=\"file:///Users/luiscruz/Desktop/bitcoin-sentiment/data-pipeline/steps/reddit_silver.py#98\" target=\"_blank\"><span style=\"color: #7f7f7f; text-decoration-color: #7f7f7f\">98</span></a>\n",
       "<span style=\"color: #7fbfbf; text-decoration-color: #7fbfbf\">                    </span>         Normalized text using helper function                              <span style=\"color: #7f7f7f; text-decoration-color: #7f7f7f\">                   </span>\n",
       "</pre>\n"
      ],
      "text/plain": [
       "\u001b[2;36m                   \u001b[0m\u001b[2;36m \u001b[0m\u001b[34mINFO    \u001b[0m \u001b[1;36m2025\u001b[0m-\u001b[1;36m09\u001b[0m-\u001b[1;36m19\u001b[0m \u001b[1;92m09:58:13\u001b[0m,\u001b[1;36m879\u001b[0m \u001b[1m[\u001b[0mINFO\u001b[1m]\u001b[0m bitcoin_discourse_pipeline:         \u001b]8;id=863245;file:///Users/luiscruz/Desktop/bitcoin-sentiment/data-pipeline/steps/reddit_silver.py\u001b\\\u001b[2mreddit_silver.py\u001b[0m\u001b]8;;\u001b\\\u001b[2m:\u001b[0m\u001b]8;id=455353;file:///Users/luiscruz/Desktop/bitcoin-sentiment/data-pipeline/steps/reddit_silver.py#98\u001b\\\u001b[2m98\u001b[0m\u001b]8;;\u001b\\\n",
       "\u001b[2;36m                    \u001b[0m         Normalized text using helper function                              \u001b[2m                   \u001b[0m\n"
      ]
     },
     "metadata": {},
     "output_type": "display_data"
    },
    {
     "data": {
      "text/html": [
       "<pre style=\"white-space:pre;overflow-x:auto;line-height:normal;font-family:Menlo,'DejaVu Sans Mono',consolas,'Courier New',monospace\"><span style=\"color: #7fbfbf; text-decoration-color: #7fbfbf\">                    </span><span style=\"color: #000080; text-decoration-color: #000080\">INFO    </span> <span style=\"color: #008080; text-decoration-color: #008080; font-weight: bold\">2025</span>-<span style=\"color: #008080; text-decoration-color: #008080; font-weight: bold\">09</span>-<span style=\"color: #008080; text-decoration-color: #008080; font-weight: bold\">19</span> <span style=\"color: #00ff00; text-decoration-color: #00ff00; font-weight: bold\">09:58:13</span>,<span style=\"color: #008080; text-decoration-color: #008080; font-weight: bold\">882</span> <span style=\"font-weight: bold\">[</span>INFO<span style=\"font-weight: bold\">]</span> bitcoin_discourse_pipeline: Added  <a href=\"file:///Users/luiscruz/Desktop/bitcoin-sentiment/data-pipeline/steps/reddit_silver.py\" target=\"_blank\"><span style=\"color: #7f7f7f; text-decoration-color: #7f7f7f\">reddit_silver.py</span></a><span style=\"color: #7f7f7f; text-decoration-color: #7f7f7f\">:</span><a href=\"file:///Users/luiscruz/Desktop/bitcoin-sentiment/data-pipeline/steps/reddit_silver.py#108\" target=\"_blank\"><span style=\"color: #7f7f7f; text-decoration-color: #7f7f7f\">108</span></a>\n",
       "<span style=\"color: #7fbfbf; text-decoration-color: #7fbfbf\">                    </span>         metadata: normalized text char count                              <span style=\"color: #7f7f7f; text-decoration-color: #7f7f7f\">                    </span>\n",
       "</pre>\n"
      ],
      "text/plain": [
       "\u001b[2;36m                   \u001b[0m\u001b[2;36m \u001b[0m\u001b[34mINFO    \u001b[0m \u001b[1;36m2025\u001b[0m-\u001b[1;36m09\u001b[0m-\u001b[1;36m19\u001b[0m \u001b[1;92m09:58:13\u001b[0m,\u001b[1;36m882\u001b[0m \u001b[1m[\u001b[0mINFO\u001b[1m]\u001b[0m bitcoin_discourse_pipeline: Added  \u001b]8;id=795635;file:///Users/luiscruz/Desktop/bitcoin-sentiment/data-pipeline/steps/reddit_silver.py\u001b\\\u001b[2mreddit_silver.py\u001b[0m\u001b]8;;\u001b\\\u001b[2m:\u001b[0m\u001b]8;id=298557;file:///Users/luiscruz/Desktop/bitcoin-sentiment/data-pipeline/steps/reddit_silver.py#108\u001b\\\u001b[2m108\u001b[0m\u001b]8;;\u001b\\\n",
       "\u001b[2;36m                    \u001b[0m         metadata: normalized text char count                              \u001b[2m                    \u001b[0m\n"
      ]
     },
     "metadata": {},
     "output_type": "display_data"
    },
    {
     "name": "stderr",
     "output_type": "stream",
     "text": [
      "/Users/luiscruz/Desktop/bitcoin-sentiment/data-pipeline/steps/reddit_silver.py:111: MapWithoutReturnDtypeWarning: 'return_dtype' of function python_udf must be set\n",
      "\n",
      "A later expression might fail because the output type is not known. Set return_dtype=pl.self_dtype() if the type is unchanged, or set the proper output data type.\n",
      "  self.posts_df = self.posts_df.with_columns(\n",
      "/Users/luiscruz/Desktop/bitcoin-sentiment/data-pipeline/steps/reddit_silver.py:115: MapWithoutReturnDtypeWarning: 'return_dtype' of function python_udf must be set\n",
      "\n",
      "A later expression might fail because the output type is not known. Set return_dtype=pl.self_dtype() if the type is unchanged, or set the proper output data type.\n",
      "  self.comments_df = self.comments_df.with_columns(\n"
     ]
    },
    {
     "data": {
      "text/html": [
       "<pre style=\"white-space:pre;overflow-x:auto;line-height:normal;font-family:Menlo,'DejaVu Sans Mono',consolas,'Courier New',monospace\"><span style=\"color: #7fbfbf; text-decoration-color: #7fbfbf\">                    </span><span style=\"color: #000080; text-decoration-color: #000080\">INFO    </span> <span style=\"color: #008080; text-decoration-color: #008080; font-weight: bold\">2025</span>-<span style=\"color: #008080; text-decoration-color: #008080; font-weight: bold\">09</span>-<span style=\"color: #008080; text-decoration-color: #008080; font-weight: bold\">19</span> <span style=\"color: #00ff00; text-decoration-color: #00ff00; font-weight: bold\">09:58:13</span>,<span style=\"color: #008080; text-decoration-color: #008080; font-weight: bold\">889</span> <span style=\"font-weight: bold\">[</span>INFO<span style=\"font-weight: bold\">]</span> bitcoin_discourse_pipeline:        <a href=\"file:///Users/luiscruz/Desktop/bitcoin-sentiment/data-pipeline/steps/reddit_silver.py\" target=\"_blank\"><span style=\"color: #7f7f7f; text-decoration-color: #7f7f7f\">reddit_silver.py</span></a><span style=\"color: #7f7f7f; text-decoration-color: #7f7f7f\">:</span><a href=\"file:///Users/luiscruz/Desktop/bitcoin-sentiment/data-pipeline/steps/reddit_silver.py#119\" target=\"_blank\"><span style=\"color: #7f7f7f; text-decoration-color: #7f7f7f\">119</span></a>\n",
       "<span style=\"color: #7fbfbf; text-decoration-color: #7fbfbf\">                    </span>         Converted unix timestamp to an UTC datetime format                <span style=\"color: #7f7f7f; text-decoration-color: #7f7f7f\">                    </span>\n",
       "</pre>\n"
      ],
      "text/plain": [
       "\u001b[2;36m                   \u001b[0m\u001b[2;36m \u001b[0m\u001b[34mINFO    \u001b[0m \u001b[1;36m2025\u001b[0m-\u001b[1;36m09\u001b[0m-\u001b[1;36m19\u001b[0m \u001b[1;92m09:58:13\u001b[0m,\u001b[1;36m889\u001b[0m \u001b[1m[\u001b[0mINFO\u001b[1m]\u001b[0m bitcoin_discourse_pipeline:        \u001b]8;id=711237;file:///Users/luiscruz/Desktop/bitcoin-sentiment/data-pipeline/steps/reddit_silver.py\u001b\\\u001b[2mreddit_silver.py\u001b[0m\u001b]8;;\u001b\\\u001b[2m:\u001b[0m\u001b]8;id=553380;file:///Users/luiscruz/Desktop/bitcoin-sentiment/data-pipeline/steps/reddit_silver.py#119\u001b\\\u001b[2m119\u001b[0m\u001b]8;;\u001b\\\n",
       "\u001b[2;36m                    \u001b[0m         Converted unix timestamp to an UTC datetime format                \u001b[2m                    \u001b[0m\n"
      ]
     },
     "metadata": {},
     "output_type": "display_data"
    }
   ],
   "source": [
    "silver.explode_comments()\n",
    "silver.add_metadata_round_one()\n",
    "silver.remove_dupes()\n",
    "silver.handle_missing()\n",
    "silver.normalize_text()\n",
    "silver.add_metadata_round_two()\n",
    "silver.convert_unix_to_timestamp()"
   ]
  },
  {
   "cell_type": "code",
   "execution_count": 5,
   "id": "886df247",
   "metadata": {},
   "outputs": [
    {
     "data": {
      "text/html": [
       "<div><style>\n",
       ".dataframe > thead > tr,\n",
       ".dataframe > tbody > tr {\n",
       "  text-align: right;\n",
       "  white-space: pre-wrap;\n",
       "}\n",
       "</style>\n",
       "<small>shape: (3, 13)</small><table border=\"1\" class=\"dataframe\"><thead><tr><th>origin</th><th>author</th><th>query_start_time</th><th>post_id</th><th>post_title</th><th>post_selftext</th><th>post_created_utc</th><th>original_title_char_count</th><th>original_selftext_char_count</th><th>post_title_normalized</th><th>post_selftext_normalized</th><th>normalized_title_char_count</th><th>normalized_selftext_char_count</th></tr><tr><td>str</td><td>str</td><td>datetime[μs, UTC]</td><td>str</td><td>str</td><td>str</td><td>datetime[μs, UTC]</td><td>u32</td><td>u32</td><td>str</td><td>str</td><td>u32</td><td>u32</td></tr></thead><tbody><tr><td>&quot;reddit&quot;</td><td>&quot;QuickDaikon1&quot;</td><td>2025-09-19 12:58:10.946669 UTC</td><td>&quot;1nl1d2c&quot;</td><td>&quot;Research idea: Modular BCH to …</td><td>&quot;Bitcoin Cash today is a monoli…</td><td>2025-09-19 11:48:14 UTC</td><td>74</td><td>7127</td><td>&quot;research idea modular bch to e…</td><td>&quot;bitcoin cash today is a monoli…</td><td>73</td><td>6653</td></tr><tr><td>&quot;reddit&quot;</td><td>&quot;Teqtoke&quot;</td><td>2025-09-19 12:58:10.946669 UTC</td><td>&quot;1nl0nll&quot;</td><td>&quot;Kraken – the exchange I should…</td><td>&quot;Title really says it all, but …</td><td>2025-09-19 11:11:02 UTC</td><td>71</td><td>874</td><td>&quot;kraken the exchange i should h…</td><td>&quot;title really says it all but i…</td><td>68</td><td>812</td></tr><tr><td>&quot;reddit&quot;</td><td>&quot;Local_Tangerine9532&quot;</td><td>2025-09-19 12:58:10.946669 UTC</td><td>&quot;1nl1h1c&quot;</td><td>&quot;Will the btc block size ever i…</td><td>&quot;Let&#x27;s pretend that lightning i…</td><td>2025-09-19 11:53:43 UTC</td><td>38</td><td>570</td><td>&quot;will the btc block size ever i…</td><td>&quot;let s pretend that lightning i…</td><td>37</td><td>512</td></tr></tbody></table></div>"
      ],
      "text/plain": [
       "shape: (3, 13)\n",
       "┌────────┬────────────┬────────────┬─────────┬───┬────────────┬────────────┬───────────┬───────────┐\n",
       "│ origin ┆ author     ┆ query_star ┆ post_id ┆ … ┆ post_title ┆ post_selft ┆ normalize ┆ normalize │\n",
       "│ ---    ┆ ---        ┆ t_time     ┆ ---     ┆   ┆ _normalize ┆ ext_normal ┆ d_title_c ┆ d_selftex │\n",
       "│ str    ┆ str        ┆ ---        ┆ str     ┆   ┆ d          ┆ ized       ┆ har_count ┆ t_char_co │\n",
       "│        ┆            ┆ datetime[μ ┆         ┆   ┆ ---        ┆ ---        ┆ ---       ┆ unt       │\n",
       "│        ┆            ┆ s, UTC]    ┆         ┆   ┆ str        ┆ str        ┆ u32       ┆ ---       │\n",
       "│        ┆            ┆            ┆         ┆   ┆            ┆            ┆           ┆ u32       │\n",
       "╞════════╪════════════╪════════════╪═════════╪═══╪════════════╪════════════╪═══════════╪═══════════╡\n",
       "│ reddit ┆ QuickDaiko ┆ 2025-09-19 ┆ 1nl1d2c ┆ … ┆ research   ┆ bitcoin    ┆ 73        ┆ 6653      │\n",
       "│        ┆ n1         ┆ 12:58:10.9 ┆         ┆   ┆ idea       ┆ cash today ┆           ┆           │\n",
       "│        ┆            ┆ 46669 UTC  ┆         ┆   ┆ modular    ┆ is a       ┆           ┆           │\n",
       "│        ┆            ┆            ┆         ┆   ┆ bch to e…  ┆ monoli…    ┆           ┆           │\n",
       "│ reddit ┆ Teqtoke    ┆ 2025-09-19 ┆ 1nl0nll ┆ … ┆ kraken the ┆ title      ┆ 68        ┆ 812       │\n",
       "│        ┆            ┆ 12:58:10.9 ┆         ┆   ┆ exchange i ┆ really     ┆           ┆           │\n",
       "│        ┆            ┆ 46669 UTC  ┆         ┆   ┆ should h…  ┆ says it    ┆           ┆           │\n",
       "│        ┆            ┆            ┆         ┆   ┆            ┆ all but i… ┆           ┆           │\n",
       "│ reddit ┆ Local_Tang ┆ 2025-09-19 ┆ 1nl1h1c ┆ … ┆ will the   ┆ let s      ┆ 37        ┆ 512       │\n",
       "│        ┆ erine9532  ┆ 12:58:10.9 ┆         ┆   ┆ btc block  ┆ pretend    ┆           ┆           │\n",
       "│        ┆            ┆ 46669 UTC  ┆         ┆   ┆ size ever  ┆ that       ┆           ┆           │\n",
       "│        ┆            ┆            ┆         ┆   ┆ i…         ┆ lightning  ┆           ┆           │\n",
       "│        ┆            ┆            ┆         ┆   ┆            ┆ i…         ┆           ┆           │\n",
       "└────────┴────────────┴────────────┴─────────┴───┴────────────┴────────────┴───────────┴───────────┘"
      ]
     },
     "execution_count": 5,
     "metadata": {},
     "output_type": "execute_result"
    }
   ],
   "source": [
    "silver.posts_df.head()"
   ]
  },
  {
   "cell_type": "code",
   "execution_count": 6,
   "id": "06ccf73b",
   "metadata": {},
   "outputs": [
    {
     "data": {
      "text/html": [
       "<div><style>\n",
       ".dataframe > thead > tr,\n",
       ".dataframe > tbody > tr {\n",
       "  text-align: right;\n",
       "  white-space: pre-wrap;\n",
       "}\n",
       "</style>\n",
       "<small>shape: (5, 9)</small><table border=\"1\" class=\"dataframe\"><thead><tr><th>post_id</th><th>comment_author</th><th>comment_id</th><th>comment_body</th><th>comment_created_utc</th><th>query_start_time</th><th>original_comment_char_count</th><th>comment_body_normalized</th><th>normalized_comment_char_count</th></tr><tr><td>str</td><td>str</td><td>str</td><td>str</td><td>datetime[μs, UTC]</td><td>datetime[μs, UTC]</td><td>u32</td><td>str</td><td>u32</td></tr></thead><tbody><tr><td>&quot;1nl0nll&quot;</td><td>null</td><td>&quot;nf1v9gs&quot;</td><td>&quot;[removed]&quot;</td><td>2025-09-19 11:18:26 UTC</td><td>2025-09-19 12:58:10.946669 UTC</td><td>9</td><td>&quot;removed&quot;</td><td>7</td></tr><tr><td>&quot;1nl1h1c&quot;</td><td>&quot;LovelyDayHere&quot;</td><td>&quot;nf27wek&quot;</td><td>&quot;Even if it does, I&#x27;ll still su…</td><td>2025-09-19 12:41:30 UTC</td><td>2025-09-19 12:58:10.946669 UTC</td><td>154</td><td>&quot;even if it does i ll still sup…</td><td>117</td></tr><tr><td>&quot;1nl0nll&quot;</td><td>&quot;Teqtoke&quot;</td><td>&quot;nf20zqi&quot;</td><td>&quot;I got mine in BTC, so I think …</td><td>2025-09-19 11:58:19 UTC</td><td>2025-09-19 12:58:10.946669 UTC</td><td>49</td><td>&quot;i got mine in btc so i think t…</td><td>48</td></tr><tr><td>&quot;1nl0nll&quot;</td><td>&quot;Ikki_The_Phoenix&quot;</td><td>&quot;nf22o5d&quot;</td><td>&quot;Just check it out. It&#x27;s not av…</td><td>2025-09-19 12:09:12 UTC</td><td>2025-09-19 12:58:10.946669 UTC</td><td>56</td><td>&quot;just check it out it s not ava…</td><td>53</td></tr><tr><td>&quot;1nl0nll&quot;</td><td>&quot;Ikki_The_Phoenix&quot;</td><td>&quot;nf21xn8&quot;</td><td>&quot;Fr? Upon joining I will get $5…</td><td>2025-09-19 12:04:27 UTC</td><td>2025-09-19 12:58:10.946669 UTC</td><td>125</td><td>&quot;fr upon joining i will get $50…</td><td>120</td></tr></tbody></table></div>"
      ],
      "text/plain": [
       "shape: (5, 9)\n",
       "┌─────────┬────────────┬───────────┬───────────┬───┬───────────┬───────────┬───────────┬───────────┐\n",
       "│ post_id ┆ comment_au ┆ comment_i ┆ comment_b ┆ … ┆ query_sta ┆ original_ ┆ comment_b ┆ normalize │\n",
       "│ ---     ┆ thor       ┆ d         ┆ ody       ┆   ┆ rt_time   ┆ comment_c ┆ ody_norma ┆ d_comment │\n",
       "│ str     ┆ ---        ┆ ---       ┆ ---       ┆   ┆ ---       ┆ har_count ┆ lized     ┆ _char_cou │\n",
       "│         ┆ str        ┆ str       ┆ str       ┆   ┆ datetime[ ┆ ---       ┆ ---       ┆ nt        │\n",
       "│         ┆            ┆           ┆           ┆   ┆ μs, UTC]  ┆ u32       ┆ str       ┆ ---       │\n",
       "│         ┆            ┆           ┆           ┆   ┆           ┆           ┆           ┆ u32       │\n",
       "╞═════════╪════════════╪═══════════╪═══════════╪═══╪═══════════╪═══════════╪═══════════╪═══════════╡\n",
       "│ 1nl0nll ┆ null       ┆ nf1v9gs   ┆ [removed] ┆ … ┆ 2025-09-1 ┆ 9         ┆ removed   ┆ 7         │\n",
       "│         ┆            ┆           ┆           ┆   ┆ 9 12:58:1 ┆           ┆           ┆           │\n",
       "│         ┆            ┆           ┆           ┆   ┆ 0.946669  ┆           ┆           ┆           │\n",
       "│         ┆            ┆           ┆           ┆   ┆ UTC       ┆           ┆           ┆           │\n",
       "│ 1nl1h1c ┆ LovelyDayH ┆ nf27wek   ┆ Even if   ┆ … ┆ 2025-09-1 ┆ 154       ┆ even if   ┆ 117       │\n",
       "│         ┆ ere        ┆           ┆ it does,  ┆   ┆ 9 12:58:1 ┆           ┆ it does i ┆           │\n",
       "│         ┆            ┆           ┆ I'll      ┆   ┆ 0.946669  ┆           ┆ ll still  ┆           │\n",
       "│         ┆            ┆           ┆ still su… ┆   ┆ UTC       ┆           ┆ sup…      ┆           │\n",
       "│ 1nl0nll ┆ Teqtoke    ┆ nf20zqi   ┆ I got     ┆ … ┆ 2025-09-1 ┆ 49        ┆ i got     ┆ 48        │\n",
       "│         ┆            ┆           ┆ mine in   ┆   ┆ 9 12:58:1 ┆           ┆ mine in   ┆           │\n",
       "│         ┆            ┆           ┆ BTC, so I ┆   ┆ 0.946669  ┆           ┆ btc so i  ┆           │\n",
       "│         ┆            ┆           ┆ think …   ┆   ┆ UTC       ┆           ┆ think t…  ┆           │\n",
       "│ 1nl0nll ┆ Ikki_The_P ┆ nf22o5d   ┆ Just      ┆ … ┆ 2025-09-1 ┆ 56        ┆ just      ┆ 53        │\n",
       "│         ┆ hoenix     ┆           ┆ check it  ┆   ┆ 9 12:58:1 ┆           ┆ check it  ┆           │\n",
       "│         ┆            ┆           ┆ out. It's ┆   ┆ 0.946669  ┆           ┆ out it s  ┆           │\n",
       "│         ┆            ┆           ┆ not av…   ┆   ┆ UTC       ┆           ┆ not ava…  ┆           │\n",
       "│ 1nl0nll ┆ Ikki_The_P ┆ nf21xn8   ┆ Fr? Upon  ┆ … ┆ 2025-09-1 ┆ 125       ┆ fr upon   ┆ 120       │\n",
       "│         ┆ hoenix     ┆           ┆ joining I ┆   ┆ 9 12:58:1 ┆           ┆ joining i ┆           │\n",
       "│         ┆            ┆           ┆ will get  ┆   ┆ 0.946669  ┆           ┆ will get  ┆           │\n",
       "│         ┆            ┆           ┆ $5…       ┆   ┆ UTC       ┆           ┆ $50…      ┆           │\n",
       "└─────────┴────────────┴───────────┴───────────┴───┴───────────┴───────────┴───────────┴───────────┘"
      ]
     },
     "execution_count": 6,
     "metadata": {},
     "output_type": "execute_result"
    }
   ],
   "source": [
    "silver.comments_df.head()"
   ]
  },
  {
   "cell_type": "code",
   "execution_count": 2,
   "id": "fe28d26d",
   "metadata": {},
   "outputs": [
    {
     "data": {
      "text/html": [
       "<pre style=\"white-space:pre;overflow-x:auto;line-height:normal;font-family:Menlo,'DejaVu Sans Mono',consolas,'Courier New',monospace\"><span style=\"color: #7fbfbf; text-decoration-color: #7fbfbf\">[09/19/25 10:03:50] </span><span style=\"color: #000080; text-decoration-color: #000080\">INFO    </span> <span style=\"color: #008080; text-decoration-color: #008080; font-weight: bold\">2025</span>-<span style=\"color: #008080; text-decoration-color: #008080; font-weight: bold\">09</span>-<span style=\"color: #008080; text-decoration-color: #008080; font-weight: bold\">19</span> <span style=\"color: #00ff00; text-decoration-color: #00ff00; font-weight: bold\">10:03:50</span>,<span style=\"color: #008080; text-decoration-color: #008080; font-weight: bold\">458</span> <span style=\"font-weight: bold\">[</span>INFO<span style=\"font-weight: bold\">]</span> bitcoin_discourse_pipeline: <span style=\"font-weight: bold\">(</span><span style=\"color: #008000; text-decoration-color: #008000\">'Will </span> <a href=\"file:///Users/luiscruz/Desktop/bitcoin-sentiment/data-pipeline/steps/reddit_bronze.py\" target=\"_blank\"><span style=\"color: #7f7f7f; text-decoration-color: #7f7f7f\">reddit_bronze.py</span></a><span style=\"color: #7f7f7f; text-decoration-color: #7f7f7f\">:</span><a href=\"file:///Users/luiscruz/Desktop/bitcoin-sentiment/data-pipeline/steps/reddit_bronze.py#37\" target=\"_blank\"><span style=\"color: #7f7f7f; text-decoration-color: #7f7f7f\">37</span></a>\n",
       "<span style=\"color: #7fbfbf; text-decoration-color: #7fbfbf\">                    </span>         <span style=\"color: #008000; text-decoration-color: #008000\">the btc block size ever increase?'</span>, <span style=\"color: #008000; text-decoration-color: #008000\">'1nl1h1c'</span><span style=\"font-weight: bold\">)</span>                     <span style=\"color: #7f7f7f; text-decoration-color: #7f7f7f\">                   </span>\n",
       "</pre>\n"
      ],
      "text/plain": [
       "\u001b[2;36m[09/19/25 10:03:50]\u001b[0m\u001b[2;36m \u001b[0m\u001b[34mINFO    \u001b[0m \u001b[1;36m2025\u001b[0m-\u001b[1;36m09\u001b[0m-\u001b[1;36m19\u001b[0m \u001b[1;92m10:03:50\u001b[0m,\u001b[1;36m458\u001b[0m \u001b[1m[\u001b[0mINFO\u001b[1m]\u001b[0m bitcoin_discourse_pipeline: \u001b[1m(\u001b[0m\u001b[32m'Will \u001b[0m \u001b]8;id=806774;file:///Users/luiscruz/Desktop/bitcoin-sentiment/data-pipeline/steps/reddit_bronze.py\u001b\\\u001b[2mreddit_bronze.py\u001b[0m\u001b]8;;\u001b\\\u001b[2m:\u001b[0m\u001b]8;id=738982;file:///Users/luiscruz/Desktop/bitcoin-sentiment/data-pipeline/steps/reddit_bronze.py#37\u001b\\\u001b[2m37\u001b[0m\u001b]8;;\u001b\\\n",
       "\u001b[2;36m                    \u001b[0m         \u001b[32mthe btc block size ever increase?'\u001b[0m, \u001b[32m'1nl1h1c'\u001b[0m\u001b[1m)\u001b[0m                     \u001b[2m                   \u001b[0m\n"
      ]
     },
     "metadata": {},
     "output_type": "display_data"
    },
    {
     "data": {
      "text/html": [
       "<pre style=\"white-space:pre;overflow-x:auto;line-height:normal;font-family:Menlo,'DejaVu Sans Mono',consolas,'Courier New',monospace\"><span style=\"color: #7fbfbf; text-decoration-color: #7fbfbf\">                    </span><span style=\"color: #000080; text-decoration-color: #000080\">INFO    </span> <span style=\"color: #008080; text-decoration-color: #008080; font-weight: bold\">2025</span>-<span style=\"color: #008080; text-decoration-color: #008080; font-weight: bold\">09</span>-<span style=\"color: #008080; text-decoration-color: #008080; font-weight: bold\">19</span> <span style=\"color: #00ff00; text-decoration-color: #00ff00; font-weight: bold\">10:03:50</span>,<span style=\"color: #008080; text-decoration-color: #008080; font-weight: bold\">721</span> <span style=\"font-weight: bold\">[</span>INFO<span style=\"font-weight: bold\">]</span> bitcoin_discourse_pipeline:         <a href=\"file:///Users/luiscruz/Desktop/bitcoin-sentiment/data-pipeline/steps/reddit_bronze.py\" target=\"_blank\"><span style=\"color: #7f7f7f; text-decoration-color: #7f7f7f\">reddit_bronze.py</span></a><span style=\"color: #7f7f7f; text-decoration-color: #7f7f7f\">:</span><a href=\"file:///Users/luiscruz/Desktop/bitcoin-sentiment/data-pipeline/steps/reddit_bronze.py#37\" target=\"_blank\"><span style=\"color: #7f7f7f; text-decoration-color: #7f7f7f\">37</span></a>\n",
       "<span style=\"color: #7fbfbf; text-decoration-color: #7fbfbf\">                    </span>         <span style=\"font-weight: bold\">(</span><span style=\"color: #008000; text-decoration-color: #008000\">'Research idea: Modular BCH to end hard fork splits and unify the</span> <span style=\"color: #7f7f7f; text-decoration-color: #7f7f7f\">                   </span>\n",
       "<span style=\"color: #7fbfbf; text-decoration-color: #7fbfbf\">                    </span>         <span style=\"color: #008000; text-decoration-color: #008000\">ecosystem'</span>, <span style=\"color: #008000; text-decoration-color: #008000\">'1nl1d2c'</span><span style=\"font-weight: bold\">)</span>                                             <span style=\"color: #7f7f7f; text-decoration-color: #7f7f7f\">                   </span>\n",
       "</pre>\n"
      ],
      "text/plain": [
       "\u001b[2;36m                   \u001b[0m\u001b[2;36m \u001b[0m\u001b[34mINFO    \u001b[0m \u001b[1;36m2025\u001b[0m-\u001b[1;36m09\u001b[0m-\u001b[1;36m19\u001b[0m \u001b[1;92m10:03:50\u001b[0m,\u001b[1;36m721\u001b[0m \u001b[1m[\u001b[0mINFO\u001b[1m]\u001b[0m bitcoin_discourse_pipeline:         \u001b]8;id=733515;file:///Users/luiscruz/Desktop/bitcoin-sentiment/data-pipeline/steps/reddit_bronze.py\u001b\\\u001b[2mreddit_bronze.py\u001b[0m\u001b]8;;\u001b\\\u001b[2m:\u001b[0m\u001b]8;id=673731;file:///Users/luiscruz/Desktop/bitcoin-sentiment/data-pipeline/steps/reddit_bronze.py#37\u001b\\\u001b[2m37\u001b[0m\u001b]8;;\u001b\\\n",
       "\u001b[2;36m                    \u001b[0m         \u001b[1m(\u001b[0m\u001b[32m'Research idea: Modular BCH to end hard fork splits and unify the\u001b[0m \u001b[2m                   \u001b[0m\n",
       "\u001b[2;36m                    \u001b[0m         \u001b[32mecosystem'\u001b[0m, \u001b[32m'1nl1d2c'\u001b[0m\u001b[1m)\u001b[0m                                             \u001b[2m                   \u001b[0m\n"
      ]
     },
     "metadata": {},
     "output_type": "display_data"
    },
    {
     "data": {
      "text/html": [
       "<pre style=\"white-space:pre;overflow-x:auto;line-height:normal;font-family:Menlo,'DejaVu Sans Mono',consolas,'Courier New',monospace\"><span style=\"color: #7fbfbf; text-decoration-color: #7fbfbf\">                    </span><span style=\"color: #000080; text-decoration-color: #000080\">INFO    </span> <span style=\"color: #008080; text-decoration-color: #008080; font-weight: bold\">2025</span>-<span style=\"color: #008080; text-decoration-color: #008080; font-weight: bold\">09</span>-<span style=\"color: #008080; text-decoration-color: #008080; font-weight: bold\">19</span> <span style=\"color: #00ff00; text-decoration-color: #00ff00; font-weight: bold\">10:03:50</span>,<span style=\"color: #008080; text-decoration-color: #008080; font-weight: bold\">990</span> <span style=\"font-weight: bold\">[</span>INFO<span style=\"font-weight: bold\">]</span> bitcoin_discourse_pipeline: <span style=\"font-weight: bold\">(</span><span style=\"color: #008000; text-decoration-color: #008000\">\"It's </span> <a href=\"file:///Users/luiscruz/Desktop/bitcoin-sentiment/data-pipeline/steps/reddit_bronze.py\" target=\"_blank\"><span style=\"color: #7f7f7f; text-decoration-color: #7f7f7f\">reddit_bronze.py</span></a><span style=\"color: #7f7f7f; text-decoration-color: #7f7f7f\">:</span><a href=\"file:///Users/luiscruz/Desktop/bitcoin-sentiment/data-pipeline/steps/reddit_bronze.py#37\" target=\"_blank\"><span style=\"color: #7f7f7f; text-decoration-color: #7f7f7f\">37</span></a>\n",
       "<span style=\"color: #7fbfbf; text-decoration-color: #7fbfbf\">                    </span>         <span style=\"color: #008000; text-decoration-color: #008000\">Fusion Friday!\"</span>, <span style=\"color: #008000; text-decoration-color: #008000\">'1nl1azj'</span><span style=\"font-weight: bold\">)</span>                                        <span style=\"color: #7f7f7f; text-decoration-color: #7f7f7f\">                   </span>\n",
       "</pre>\n"
      ],
      "text/plain": [
       "\u001b[2;36m                   \u001b[0m\u001b[2;36m \u001b[0m\u001b[34mINFO    \u001b[0m \u001b[1;36m2025\u001b[0m-\u001b[1;36m09\u001b[0m-\u001b[1;36m19\u001b[0m \u001b[1;92m10:03:50\u001b[0m,\u001b[1;36m990\u001b[0m \u001b[1m[\u001b[0mINFO\u001b[1m]\u001b[0m bitcoin_discourse_pipeline: \u001b[1m(\u001b[0m\u001b[32m\"It's \u001b[0m \u001b]8;id=20769;file:///Users/luiscruz/Desktop/bitcoin-sentiment/data-pipeline/steps/reddit_bronze.py\u001b\\\u001b[2mreddit_bronze.py\u001b[0m\u001b]8;;\u001b\\\u001b[2m:\u001b[0m\u001b]8;id=738232;file:///Users/luiscruz/Desktop/bitcoin-sentiment/data-pipeline/steps/reddit_bronze.py#37\u001b\\\u001b[2m37\u001b[0m\u001b]8;;\u001b\\\n",
       "\u001b[2;36m                    \u001b[0m         \u001b[32mFusion Friday!\"\u001b[0m, \u001b[32m'1nl1azj'\u001b[0m\u001b[1m)\u001b[0m                                        \u001b[2m                   \u001b[0m\n"
      ]
     },
     "metadata": {},
     "output_type": "display_data"
    },
    {
     "data": {
      "text/html": [
       "<pre style=\"white-space:pre;overflow-x:auto;line-height:normal;font-family:Menlo,'DejaVu Sans Mono',consolas,'Courier New',monospace\"><span style=\"color: #7fbfbf; text-decoration-color: #7fbfbf\">[09/19/25 10:03:51] </span><span style=\"color: #000080; text-decoration-color: #000080\">INFO    </span> <span style=\"color: #008080; text-decoration-color: #008080; font-weight: bold\">2025</span>-<span style=\"color: #008080; text-decoration-color: #008080; font-weight: bold\">09</span>-<span style=\"color: #008080; text-decoration-color: #008080; font-weight: bold\">19</span> <span style=\"color: #00ff00; text-decoration-color: #00ff00; font-weight: bold\">10:03:51</span>,<span style=\"color: #008080; text-decoration-color: #008080; font-weight: bold\">224</span> <span style=\"font-weight: bold\">[</span>INFO<span style=\"font-weight: bold\">]</span> bitcoin_discourse_pipeline:         <a href=\"file:///Users/luiscruz/Desktop/bitcoin-sentiment/data-pipeline/steps/reddit_bronze.py\" target=\"_blank\"><span style=\"color: #7f7f7f; text-decoration-color: #7f7f7f\">reddit_bronze.py</span></a><span style=\"color: #7f7f7f; text-decoration-color: #7f7f7f\">:</span><a href=\"file:///Users/luiscruz/Desktop/bitcoin-sentiment/data-pipeline/steps/reddit_bronze.py#37\" target=\"_blank\"><span style=\"color: #7f7f7f; text-decoration-color: #7f7f7f\">37</span></a>\n",
       "<span style=\"color: #7fbfbf; text-decoration-color: #7fbfbf\">                    </span>         <span style=\"font-weight: bold\">(</span><span style=\"color: #008000; text-decoration-color: #008000\">'Kraken – the exchange I should have joined earlier! Get $50 for </span> <span style=\"color: #7f7f7f; text-decoration-color: #7f7f7f\">                   </span>\n",
       "<span style=\"color: #7fbfbf; text-decoration-color: #7fbfbf\">                    </span>         <span style=\"color: #008000; text-decoration-color: #008000\">joining'</span>, <span style=\"color: #008000; text-decoration-color: #008000\">'1nl0oet'</span><span style=\"font-weight: bold\">)</span>                                               <span style=\"color: #7f7f7f; text-decoration-color: #7f7f7f\">                   </span>\n",
       "</pre>\n"
      ],
      "text/plain": [
       "\u001b[2;36m[09/19/25 10:03:51]\u001b[0m\u001b[2;36m \u001b[0m\u001b[34mINFO    \u001b[0m \u001b[1;36m2025\u001b[0m-\u001b[1;36m09\u001b[0m-\u001b[1;36m19\u001b[0m \u001b[1;92m10:03:51\u001b[0m,\u001b[1;36m224\u001b[0m \u001b[1m[\u001b[0mINFO\u001b[1m]\u001b[0m bitcoin_discourse_pipeline:         \u001b]8;id=253531;file:///Users/luiscruz/Desktop/bitcoin-sentiment/data-pipeline/steps/reddit_bronze.py\u001b\\\u001b[2mreddit_bronze.py\u001b[0m\u001b]8;;\u001b\\\u001b[2m:\u001b[0m\u001b]8;id=18660;file:///Users/luiscruz/Desktop/bitcoin-sentiment/data-pipeline/steps/reddit_bronze.py#37\u001b\\\u001b[2m37\u001b[0m\u001b]8;;\u001b\\\n",
       "\u001b[2;36m                    \u001b[0m         \u001b[1m(\u001b[0m\u001b[32m'Kraken – the exchange I should have joined earlier! Get $50 for \u001b[0m \u001b[2m                   \u001b[0m\n",
       "\u001b[2;36m                    \u001b[0m         \u001b[32mjoining'\u001b[0m, \u001b[32m'1nl0oet'\u001b[0m\u001b[1m)\u001b[0m                                               \u001b[2m                   \u001b[0m\n"
      ]
     },
     "metadata": {},
     "output_type": "display_data"
    },
    {
     "data": {
      "text/html": [
       "<pre style=\"white-space:pre;overflow-x:auto;line-height:normal;font-family:Menlo,'DejaVu Sans Mono',consolas,'Courier New',monospace\"><span style=\"color: #7fbfbf; text-decoration-color: #7fbfbf\">                    </span><span style=\"color: #000080; text-decoration-color: #000080\">INFO    </span> <span style=\"color: #008080; text-decoration-color: #008080; font-weight: bold\">2025</span>-<span style=\"color: #008080; text-decoration-color: #008080; font-weight: bold\">09</span>-<span style=\"color: #008080; text-decoration-color: #008080; font-weight: bold\">19</span> <span style=\"color: #00ff00; text-decoration-color: #00ff00; font-weight: bold\">10:03:51</span>,<span style=\"color: #008080; text-decoration-color: #008080; font-weight: bold\">463</span> <span style=\"font-weight: bold\">[</span>INFO<span style=\"font-weight: bold\">]</span> bitcoin_discourse_pipeline:         <a href=\"file:///Users/luiscruz/Desktop/bitcoin-sentiment/data-pipeline/steps/reddit_bronze.py\" target=\"_blank\"><span style=\"color: #7f7f7f; text-decoration-color: #7f7f7f\">reddit_bronze.py</span></a><span style=\"color: #7f7f7f; text-decoration-color: #7f7f7f\">:</span><a href=\"file:///Users/luiscruz/Desktop/bitcoin-sentiment/data-pipeline/steps/reddit_bronze.py#37\" target=\"_blank\"><span style=\"color: #7f7f7f; text-decoration-color: #7f7f7f\">37</span></a>\n",
       "<span style=\"color: #7fbfbf; text-decoration-color: #7fbfbf\">                    </span>         <span style=\"font-weight: bold\">(</span><span style=\"color: #008000; text-decoration-color: #008000\">'Kraken – the exchange I should have joined earlier! Get $50 for </span> <span style=\"color: #7f7f7f; text-decoration-color: #7f7f7f\">                   </span>\n",
       "<span style=\"color: #7fbfbf; text-decoration-color: #7fbfbf\">                    </span>         <span style=\"color: #008000; text-decoration-color: #008000\">joining'</span>, <span style=\"color: #008000; text-decoration-color: #008000\">'1nl0nll'</span><span style=\"font-weight: bold\">)</span>                                               <span style=\"color: #7f7f7f; text-decoration-color: #7f7f7f\">                   </span>\n",
       "</pre>\n"
      ],
      "text/plain": [
       "\u001b[2;36m                   \u001b[0m\u001b[2;36m \u001b[0m\u001b[34mINFO    \u001b[0m \u001b[1;36m2025\u001b[0m-\u001b[1;36m09\u001b[0m-\u001b[1;36m19\u001b[0m \u001b[1;92m10:03:51\u001b[0m,\u001b[1;36m463\u001b[0m \u001b[1m[\u001b[0mINFO\u001b[1m]\u001b[0m bitcoin_discourse_pipeline:         \u001b]8;id=701436;file:///Users/luiscruz/Desktop/bitcoin-sentiment/data-pipeline/steps/reddit_bronze.py\u001b\\\u001b[2mreddit_bronze.py\u001b[0m\u001b]8;;\u001b\\\u001b[2m:\u001b[0m\u001b]8;id=185135;file:///Users/luiscruz/Desktop/bitcoin-sentiment/data-pipeline/steps/reddit_bronze.py#37\u001b\\\u001b[2m37\u001b[0m\u001b]8;;\u001b\\\n",
       "\u001b[2;36m                    \u001b[0m         \u001b[1m(\u001b[0m\u001b[32m'Kraken – the exchange I should have joined earlier! Get $50 for \u001b[0m \u001b[2m                   \u001b[0m\n",
       "\u001b[2;36m                    \u001b[0m         \u001b[32mjoining'\u001b[0m, \u001b[32m'1nl0nll'\u001b[0m\u001b[1m)\u001b[0m                                               \u001b[2m                   \u001b[0m\n"
      ]
     },
     "metadata": {},
     "output_type": "display_data"
    },
    {
     "data": {
      "text/html": [
       "<pre style=\"white-space:pre;overflow-x:auto;line-height:normal;font-family:Menlo,'DejaVu Sans Mono',consolas,'Courier New',monospace\"><span style=\"color: #7fbfbf; text-decoration-color: #7fbfbf\">                    </span><span style=\"color: #000080; text-decoration-color: #000080\">INFO    </span> <span style=\"color: #008080; text-decoration-color: #008080; font-weight: bold\">2025</span>-<span style=\"color: #008080; text-decoration-color: #008080; font-weight: bold\">09</span>-<span style=\"color: #008080; text-decoration-color: #008080; font-weight: bold\">19</span> <span style=\"color: #00ff00; text-decoration-color: #00ff00; font-weight: bold\">10:03:51</span>,<span style=\"color: #008080; text-decoration-color: #008080; font-weight: bold\">760</span> <span style=\"font-weight: bold\">[</span>INFO<span style=\"font-weight: bold\">]</span> bitcoin_discourse_pipeline: Query   <a href=\"file:///Users/luiscruz/Desktop/bitcoin-sentiment/data-pipeline/steps/reddit_bronze.py\" target=\"_blank\"><span style=\"color: #7f7f7f; text-decoration-color: #7f7f7f\">reddit_bronze.py</span></a><span style=\"color: #7f7f7f; text-decoration-color: #7f7f7f\">:</span><a href=\"file:///Users/luiscruz/Desktop/bitcoin-sentiment/data-pipeline/steps/reddit_bronze.py#57\" target=\"_blank\"><span style=\"color: #7f7f7f; text-decoration-color: #7f7f7f\">57</span></a>\n",
       "<span style=\"color: #7fbfbf; text-decoration-color: #7fbfbf\">                    </span>         ended in <span style=\"color: #008080; text-decoration-color: #008080; font-weight: bold\">2.4527218341827393</span> seconds                                <span style=\"color: #7f7f7f; text-decoration-color: #7f7f7f\">                   </span>\n",
       "</pre>\n"
      ],
      "text/plain": [
       "\u001b[2;36m                   \u001b[0m\u001b[2;36m \u001b[0m\u001b[34mINFO    \u001b[0m \u001b[1;36m2025\u001b[0m-\u001b[1;36m09\u001b[0m-\u001b[1;36m19\u001b[0m \u001b[1;92m10:03:51\u001b[0m,\u001b[1;36m760\u001b[0m \u001b[1m[\u001b[0mINFO\u001b[1m]\u001b[0m bitcoin_discourse_pipeline: Query   \u001b]8;id=349117;file:///Users/luiscruz/Desktop/bitcoin-sentiment/data-pipeline/steps/reddit_bronze.py\u001b\\\u001b[2mreddit_bronze.py\u001b[0m\u001b]8;;\u001b\\\u001b[2m:\u001b[0m\u001b]8;id=353668;file:///Users/luiscruz/Desktop/bitcoin-sentiment/data-pipeline/steps/reddit_bronze.py#57\u001b\\\u001b[2m57\u001b[0m\u001b]8;;\u001b\\\n",
       "\u001b[2;36m                    \u001b[0m         ended in \u001b[1;36m2.4527218341827393\u001b[0m seconds                                \u001b[2m                   \u001b[0m\n"
      ]
     },
     "metadata": {},
     "output_type": "display_data"
    },
    {
     "name": "stdout",
     "output_type": "stream",
     "text": [
      "reddit Local_Tangerine9532 1758287029.3080041 1nl1h1c Will the btc block size ever increase? Let's pretend that lightning is the perfect solution. (I think we all agree it isn't, but for the argument of this post, let's just pretend it is).\n",
      "\n",
      "With the blockchain currently able to progress around 210 million transactions per year (this is a rough estimate in favor of btc. Real number will probably be smaller). It's quite obvious that lightning can't scale to 8billion without dramatically increasing the blocksize. Do you guys think this will ever happen?\n",
      "\n",
      "This problem is well described in this [Youtube video](https://youtu.be/5Cq0C0SpbkY?si=vQF6Eok7Q-rpzMl2) 1758282823.0 [{\"comment_id\": \"nf21q5l\", \"comment_author\": \"PanneKopp\", \"comment_body\": \"no, otherwise they would have to admit they were wrong in 2017 - just use the working fork called Bitcoin Cash BCH\", \"comment_created_utc\": 1758283385.0}, {\"comment_id\": \"nf23c87\", \"comment_author\": \"Realistic_Fee_00001\", \"comment_body\": \"As long as Core exists: No.\\n\\nAnd even then, you have abominations like Segwit, Taproot and mandatory RBF to deal with.\\n\\n\\nPush BCH, it's the working scaling Bitcoin. You can wait till your dead or you can trade into the better Bitcoin in a few seconds.\", \"comment_created_utc\": 1758284007.0}, {\"comment_id\": \"nf21nwo\", \"comment_author\": \"Fooshi2020\", \"comment_body\": \"We don't have to worry about that with BCH.  It increases algorithmically.\", \"comment_created_utc\": 1758283360.0}, {\"comment_id\": \"nf27wek\", \"comment_author\": \"LovelyDayHere\", \"comment_body\": \"Even if it does, I'll still support Bitcoin Cash because of the upgrades it made that make it a better p2p cash.\\n\\nhttps://minisatoshi.cash/upgrade-history\", \"comment_created_utc\": 1758285690.0}, {\"comment_id\": \"nf2b794\", \"comment_author\": \"crushthewebdev\", \"comment_body\": \"I think it will. I know this will be unpopular here but I think it was the right decision at the time to stick with small blocks. However, things change. And so far the L2 solutions aren't there yet.\", \"comment_created_utc\": 1758286829.0}, {\"comment_id\": \"nf27hte\", \"comment_author\": \"Special-Arrival6717\", \"comment_body\": \"The theory to support quicker opening of Lightning channels is to use Channel Factories, to batch open a lot of lightning channels as a single transaction. This is still in the early research phase.\\n\\nThat being said, Lightning is not the only L2, there are other ways to scale Bitcoin (each with their own pros/cons) beyond scaling the base chain.\\n\\nEven using centralized services can be a valid way of scaling for people who do not care as much about self-custody / decentralization. Keeping a small amount of BTC on Strike or Wallet of Satoshi to use their lightning infrastructure is probably an acceptable compromise for most regular people.\", \"comment_created_utc\": 1758285545.0}, {\"comment_id\": \"nf27q79\", \"comment_author\": \"Local_Tangerine9532\", \"comment_body\": \"Can you share said research?\", \"comment_created_utc\": 1758285628.0}]\n",
      "reddit QuickDaikon1 1758287029.3080041 1nl1d2c Research idea: Modular BCH to end hard fork splits and unify the ecosystem Bitcoin Cash today is a monolithic PoW chain. Every rule is baked into the global consensus: block size, opcodes, CashTokens rules, supply cap, etc. This means all full nodes must agree on every parameter. If a single group disagrees, they must hard fork, causing permanent chain splits. This is why BTC → BCH → BSV happened. It’s a winner-takes-all game.\n",
      "\n",
      "The problem with monolithic design is that innovation equals political chaos. Adding new features always risks tearing apart the network because even small changes require every node to upgrade simultaneously. This keeps BCH conservative, slow to evolve, and prone to destructive hard fork wars.\n",
      "\n",
      "The idea: evolve BCH into a modular platform chain while keeping PoW and the 21M cap permanently fixed. The base BCH chain would become a minimal “kernel” like Cosmos Hub or Celestia DA layer, while all new features and experimental rules live in separate on-chain modules. This turns BCH into something similar to Cosmos SDK architecture but powered by PoW instead of PoS. Basically Cosmos IBC but inside one chain.\n",
      "\n",
      "Cosmos example: Thorchain, Osmosis, and Chainflip are all sovereign chains built on Cosmos SDK. Each chain has its own rules, but they share a common interoperability standard (IBC). This means Thorchain can handle cross-chain swaps, while Osmosis runs a DEX, without forcing everyone to upgrade one global rulebook. If Thorchain wants to change its liquidity logic, Osmosis doesn’t need to fork.\n",
      "\n",
      "Modular BCH would bring that same flexibility inside a single PoW chain:\n",
      "\n",
      "1. Base layer responsibilities stay minimal:\n",
      "- Proof-of-Work block production\n",
      "- Enforce 21M supply cap and halving schedule\n",
      "- Track BCH UTXO set\n",
      "- Validate cryptographic state roots of modules\n",
      "\n",
      "2. Each module has its own rules, execution logic, and even token models. Examples:\n",
      "- DEX and DeFi smart contracts\n",
      "- Privacy and zero-knowledge systems\n",
      "- Stablecoins and algorithmic assets\n",
      "- A “no block size limit” BSV-style sandbox\n",
      "- PoS experiment zones\n",
      "\n",
      "3. Only BCH pays base layer fees. Every module must pay miners in BCH to include their state updates. This guarantees that the base coin gains value as the ecosystem grows. More modules = more BCH fee demand = higher miner revenue = stronger security.\n",
      "\n",
      "4. Nodes can selectively sync only the modules they care about. A privacy wallet only syncs the privacy module, while a DEX validator syncs the DEX module. The BCH base chain only cares about the root hashes, keeping the core chain lean and scalable.\n",
      "\n",
      "5. Conflicts no longer destroy the network. Instead of forking into separate coins, disagreeing groups just create competing modules:\n",
      "- Small-block vs big-block people run different modules, same miners secure both.\n",
      "- PoS advocates can run a staking module while BCH stays PoW at L1.\n",
      "- Inflationists mint their own internal token without touching BCH’s fixed 21M cap.\n",
      "- Privacy battles stay isolated in optional modules.\n",
      "\n",
      "Example: BSV today pushes no block limit and ultra-low fees. In modular BCH, they could run a sandbox module with their own internal rules, but every update would still need to pay real BCH fees to be included at L1. Spam turns into miner revenue instead of threatening the base chain. Nodes that don’t care about the unlimited data simply ignore it, syncing only the root hash. This completely neutralizes the “BSV attack vector.”\n",
      "\n",
      "Economic security:\n",
      "Because all modules pay fees in BCH, they are financially dependent on BCH PoW. If a module becomes highly active, it drives up BCH fee demand, strengthening L1 hashpower. This solves the “L2 kills L1” problem seen on Ethereum where rollups drain value off-chain. In modular BCH, all usage flows back into BCH miner rewards, making the base layer economically dominant forever.\n",
      "\n",
      "51% attack behavior:\n",
      "A 60% hashpower attacker can still reorder blocks and censor module updates temporarily, just like they can with BCH transactions today. However, they cannot inject invalid state roots. Modules can add finality locks so that after X blocks, their state cannot be rolled back, limiting the attack window. This is similar to Cosmos zones using economic finality or Ethereum rollups using fraud/validity proofs.\n",
      "\n",
      "We would benefit the following:\n",
      "- BCH remains one unified coin and one unified ledger.\n",
      "- Political disputes move to modules instead of chain splits.\n",
      "- Heavy experimentation no longer threatens stability.\n",
      "- Miners gain revenue directly from module growth.\n",
      "- Over time, BCH becomes both Bitcoin-style hard money and a full Cosmos-like ecosystem without ever fragmenting.\n",
      "\n",
      "This is a research idea, not a finalized spec. The goal is to start discussion among developers about how BCH can evolve beyond the fragility of monolithic design while preserving its PoW economics. It combines lessons from Cosmos SDK, Celestia modularity, and Ethereum rollups, but with BCH as the permanent settlement and fee token at the core. We could imagine the it as follow:\n",
      "\n",
      ">>>>>>1. Block header structure\n",
      "Each block includes:\n",
      "- prevBlockHash\n",
      "- BCH UTXO root\n",
      "- Global module state root\n",
      "Inside the global module state root, each module has its own Merkle root.\n",
      "Example:\n",
      "\n",
      "Block Header\n",
      "- prevBlockHash\n",
      " - BCH_UTXO_Root\n",
      "\n",
      "\n",
      " - Module_State_Root:\n",
      "    \n",
      " >>>>A. DEX_Module_Root\n",
      "\n",
      " >>>>B. Privacy_Module_Root\n",
      "\n",
      " >>>>C. PoS_Module_Root\n",
      "\n",
      ">>>>>2. Transaction structure\n",
      "Each module transaction is wrapped inside a BCH transaction:\n",
      "[BCH Header] + [Fee Output in BCH] + [Module Payload]\n",
      "Miners receive BCH for every module update, ensuring shared security.\n",
      "\n",
      "\n",
      ">>>>>>>3. Validation process\n",
      "- Base nodes verify PoW, BCH supply, and root hashes only.\n",
      "- Module nodes verify detailed internal logic for specific modules.\n",
      "- Invalid state roots are rejected globally.\n",
      "\n",
      ">>>>>>4. Dispute resolution\n",
      "Since modules are independent, conflicting visions don’t require base-level forks:\n",
      "- Block size disputes → separate modules.\n",
      "- PoS vs PoW → PoS rules stay in a module while L1 stays PoW.\n",
      "- Inflationists mint unlimited internal tokens without touching BCH supply.\n",
      "\n",
      "\n",
      "Architecture:\n",
      "\n",
      "        [Module A - DEX]\n",
      "        [Module B - Privacy]\n",
      "        [Module C - PoS]\n",
      "        [Module D - Unlimited Blocks]\n",
      "                 |\n",
      "                 v\n",
      "      +-----------------------------+\n",
      "      | BCH PoW Base Chain               |\n",
      "      | - Proof-of-Work mining           |\n",
      "      | - 21M hard cap                            |\n",
      "      | - UTXO rules only                      |\n",
      "      | - Module state root commits |\n",
      "      +-----------------------------+\n",
      "                 |\n",
      "                 v\n",
      "          Global BCH Economy\n",
      "\n",
      "References for similar concepts:\n",
      "- BTC world: Drivechains by Paul Sztorc (BIP300/301) – idea of pegged sidechains secured by Bitcoin miners.\n",
      "- Cosmos world: Inter-Blockchain Communication (IBC) – multi-chain modular system for cross-chain assets.\n",
      "- BCH world: CashTokens covenant upgrades, which are the first step toward on-chain smart contract logic but still monolithic.\n",
      "- Celestia: Data availability layer separating consensus from execution.\n",
      "\n",
      "I just borrowed lessons from all of these systems but aims for a single PoW-secured ecosystem that cannot fragment into multiple coins again. 1758282494.0 [{\"comment_id\": \"nf21z44\", \"comment_author\": \"QuickDaikon1\", \"comment_body\": \"I think u/bitjson might be interested to share his thoughts. The base layer (kernel) stays simple PoW, 21M cap, UTXOs while modules are like apps running on top, each with its own rules, all paying BCH fees to miners. One chain rather than many. This also give the ability for cashtoken to adopt their own consensus native interoperability between modules, similar to Cosmos IBC but inside one chain.\", \"comment_created_utc\": 1758283482.0}, {\"comment_id\": \"nf23ap8\", \"comment_author\": \"QuickDaikon1\", \"comment_body\": \"Basically a summarized title would be Cosmos IBC but inside one PoW chain, with BCH as the single fee Coin and ultimate settlement layer.\", \"comment_created_utc\": 1758283990.0}, {\"comment_id\": \"nf2982m\", \"comment_author\": \"LovelyDayHere\", \"comment_body\": \"Breaking the existing block header format is a very big deal, it essentially cuts BCH off from existing SHA256 security.\\n\\nThe ability to mine BCH as-is, just like Bitcoin with a swap of the node software, is what makes it attractive to current miners... economically it could be quite hazardous to deviate from the established POW ecosystem.\\n\\nWith this in mind, I think the ideas of fostering such a diverse ecosystem built on top of the base chain, are worth exploring.\", \"comment_created_utc\": 1758286156.0}]\n",
      "reddit Realistic_Fee_00001 1758287029.3080041 1nl1azj It's Fusion Friday!  1758282313.0 []\n",
      "reddit Teqtoke 1758287029.3080041 1nl0oet Kraken – the exchange I should have joined earlier! Get $50 for joining  1758280337.0 [{\"comment_id\": \"nf1vbip\", \"comment_author\": \"Teqtoke\", \"comment_body\": \"I had been using OTC options, and have tried a few exchanges as well, but with the CAD/BTC trading pair, the fees/spread are lower. It\\u2019s a game changer\", \"comment_created_utc\": 1758280732.0}]\n",
      "reddit Teqtoke 1758287029.3080041 1nl0nll Kraken – the exchange I should have joined earlier! Get $50 for joining Title really says it all, but I’ve been using Kraken for a while now and honestly I’m impressed. Most crypto exchanges don’t give us Canadians many CAD trading pairs, but on Kraken I can actually trade BTC, ETH, and even XRP directly against CAD.\n",
      "There are EUR pairs too. \n",
      "\n",
      "That’s been a huge plus for me, I don’t have to convert CAD to USD first, and I don’t lose money in extra exchange fees. Deposits/withdrawals have been very smooth too. I can withdraw BTC with lightning with zero fees. \n",
      "\n",
      "Not financial advice or anything, but for anyone else in Canada frustrated with the lack of CAD options, it’s worth checking out.\n",
      "\n",
      "They also have some coins I couldn’t find elsewhere, such as Kaspa. \n",
      "\n",
      "If you’re planning to sign up, use this code to get  \n",
      "$50! \n",
      "Code: 5t7gqd4d  \n",
      "Link: https://invite.kraken.com/JDNW/4zeuh19l  \n",
      "Payout is in BTC, after $200 is deposited and traded. 1758280262.0 [{\"comment_id\": \"nf1ua6u\", \"comment_author\": \"AutoModerator\", \"comment_body\": \"This is a friendly reminder that Kraken Support will never DM you first, ask for your username or password, or ask you to transfer funds. Kraken has its own subreddits, [r/KrakenSupport](https://www.reddit.com/r/KrakenSupport/) and [r/Kraken](https://www.reddit.com/r/Kraken/), and their [Support Center](http://support.kraken.com/).\\n\\nPing for verified users associated with Kraken: /u/krakensupport /u/krakenexchange\\n\\n*I am a bot, and this action was performed automatically. Please [contact the moderators of this subreddit](/message/compose/?to=/r/CryptoCurrency) if you have any questions or concerns.*\", \"comment_created_utc\": 1758280263.0}, {\"comment_id\": \"nf1v9gs\", \"comment_author\": null, \"comment_body\": \"[removed]\", \"comment_created_utc\": 1758280706.0}, {\"comment_id\": \"nf1vlt0\", \"comment_author\": null, \"comment_body\": \"[removed]\", \"comment_created_utc\": 1758280859.0}, {\"comment_id\": \"nf1y1iv\", \"comment_author\": null, \"comment_body\": \"[removed]\", \"comment_created_utc\": 1758281909.0}, {\"comment_id\": \"nf1zzlv\", \"comment_author\": null, \"comment_body\": \"[removed]\", \"comment_created_utc\": 1758282701.0}, {\"comment_id\": \"nf20n1b\", \"comment_author\": \"Ikki_The_Phoenix\", \"comment_body\": \"They will credit $50 USD in USDT?\", \"comment_created_utc\": 1758282959.0}, {\"comment_id\": \"nf25nuk\", \"comment_author\": \"Next_Statement6145\", \"comment_body\": \"does the $50 come after KYC or before ?\", \"comment_created_utc\": 1758284877.0}, {\"comment_id\": \"nf1v4uk\", \"comment_author\": \"Teqtoke\", \"comment_body\": \"I had been using OTC options, and have tried a few exchanges as well, but with the CAD/BTC trading pair, the fees/spread are lower. It\\u2019s a game changer\", \"comment_created_utc\": 1758280650.0}, {\"comment_id\": \"nf20zqi\", \"comment_author\": \"Teqtoke\", \"comment_body\": \"I got mine in BTC, so I think that\\u2019s the standard\", \"comment_created_utc\": 1758283099.0}, {\"comment_id\": \"nf2a401\", \"comment_author\": \"Teqtoke\", \"comment_body\": \"It\\u2019s after $200 in trading, so after KYC. \\nI\\u2019ll update my post!\", \"comment_created_utc\": 1758286462.0}, {\"comment_id\": \"nf21xn8\", \"comment_author\": \"Ikki_The_Phoenix\", \"comment_body\": \"Fr? Upon joining I will get $50 in BTC? Don't kid me bruh. I will get back here..\\nIsn't restricted to specific countries tho?\", \"comment_created_utc\": 1758283467.0}, {\"comment_id\": \"nf22o5d\", \"comment_author\": \"Ikki_The_Phoenix\", \"comment_body\": \"Just check it out. It's not available in my region. Meh.\", \"comment_created_utc\": 1758283752.0}, {\"comment_id\": \"nf237ts\", \"comment_author\": \"Teqtoke\", \"comment_body\": \"Ohh too bad!\", \"comment_created_utc\": 1758283960.0}, {\"comment_id\": \"nf23buf\", \"comment_author\": \"Ikki_The_Phoenix\", \"comment_body\": \"Yeah. It's just available in Canada.\", \"comment_created_utc\": 1758284003.0}, {\"comment_id\": \"nf29yqs\", \"comment_author\": \"Teqtoke\", \"comment_body\": \"But it\\u2019s a US exchange? And they have EUR trading pairs\", \"comment_created_utc\": 1758286412.0}]\n"
     ]
    },
    {
     "data": {
      "text/html": [
       "<pre style=\"white-space:pre;overflow-x:auto;line-height:normal;font-family:Menlo,'DejaVu Sans Mono',consolas,'Courier New',monospace\"><span style=\"color: #7fbfbf; text-decoration-color: #7fbfbf\">                    </span><span style=\"color: #000080; text-decoration-color: #000080\">INFO    </span> <span style=\"color: #008080; text-decoration-color: #008080; font-weight: bold\">2025</span>-<span style=\"color: #008080; text-decoration-color: #008080; font-weight: bold\">09</span>-<span style=\"color: #008080; text-decoration-color: #008080; font-weight: bold\">19</span> <span style=\"color: #00ff00; text-decoration-color: #00ff00; font-weight: bold\">10:03:51</span>,<span style=\"color: #008080; text-decoration-color: #008080; font-weight: bold\">875</span> <span style=\"font-weight: bold\">[</span>INFO<span style=\"font-weight: bold\">]</span> bitcoin_discourse_pipeline: Created <a href=\"file:///Users/luiscruz/Desktop/bitcoin-sentiment/data-pipeline/steps/reddit_silver.py\" target=\"_blank\"><span style=\"color: #7f7f7f; text-decoration-color: #7f7f7f\">reddit_silver.py</span></a><span style=\"color: #7f7f7f; text-decoration-color: #7f7f7f\">:</span><a href=\"file:///Users/luiscruz/Desktop/bitcoin-sentiment/data-pipeline/steps/reddit_silver.py#37\" target=\"_blank\"><span style=\"color: #7f7f7f; text-decoration-color: #7f7f7f\">37</span></a>\n",
       "<span style=\"color: #7fbfbf; text-decoration-color: #7fbfbf\">                    </span>         separate DF for comments                                           <span style=\"color: #7f7f7f; text-decoration-color: #7f7f7f\">                   </span>\n",
       "</pre>\n"
      ],
      "text/plain": [
       "\u001b[2;36m                   \u001b[0m\u001b[2;36m \u001b[0m\u001b[34mINFO    \u001b[0m \u001b[1;36m2025\u001b[0m-\u001b[1;36m09\u001b[0m-\u001b[1;36m19\u001b[0m \u001b[1;92m10:03:51\u001b[0m,\u001b[1;36m875\u001b[0m \u001b[1m[\u001b[0mINFO\u001b[1m]\u001b[0m bitcoin_discourse_pipeline: Created \u001b]8;id=749352;file:///Users/luiscruz/Desktop/bitcoin-sentiment/data-pipeline/steps/reddit_silver.py\u001b\\\u001b[2mreddit_silver.py\u001b[0m\u001b]8;;\u001b\\\u001b[2m:\u001b[0m\u001b]8;id=533224;file:///Users/luiscruz/Desktop/bitcoin-sentiment/data-pipeline/steps/reddit_silver.py#37\u001b\\\u001b[2m37\u001b[0m\u001b]8;;\u001b\\\n",
       "\u001b[2;36m                    \u001b[0m         separate DF for comments                                           \u001b[2m                   \u001b[0m\n"
      ]
     },
     "metadata": {},
     "output_type": "display_data"
    },
    {
     "data": {
      "text/html": [
       "<pre style=\"white-space:pre;overflow-x:auto;line-height:normal;font-family:Menlo,'DejaVu Sans Mono',consolas,'Courier New',monospace\"><span style=\"color: #7fbfbf; text-decoration-color: #7fbfbf\">                    </span><span style=\"color: #000080; text-decoration-color: #000080\">INFO    </span> <span style=\"color: #008080; text-decoration-color: #008080; font-weight: bold\">2025</span>-<span style=\"color: #008080; text-decoration-color: #008080; font-weight: bold\">09</span>-<span style=\"color: #008080; text-decoration-color: #008080; font-weight: bold\">19</span> <span style=\"color: #00ff00; text-decoration-color: #00ff00; font-weight: bold\">10:03:51</span>,<span style=\"color: #008080; text-decoration-color: #008080; font-weight: bold\">880</span> <span style=\"font-weight: bold\">[</span>INFO<span style=\"font-weight: bold\">]</span> bitcoin_discourse_pipeline: Added   <a href=\"file:///Users/luiscruz/Desktop/bitcoin-sentiment/data-pipeline/steps/reddit_silver.py\" target=\"_blank\"><span style=\"color: #7f7f7f; text-decoration-color: #7f7f7f\">reddit_silver.py</span></a><span style=\"color: #7f7f7f; text-decoration-color: #7f7f7f\">:</span><a href=\"file:///Users/luiscruz/Desktop/bitcoin-sentiment/data-pipeline/steps/reddit_silver.py#47\" target=\"_blank\"><span style=\"color: #7f7f7f; text-decoration-color: #7f7f7f\">47</span></a>\n",
       "<span style=\"color: #7fbfbf; text-decoration-color: #7fbfbf\">                    </span>         metadata: original text fields char count                          <span style=\"color: #7f7f7f; text-decoration-color: #7f7f7f\">                   </span>\n",
       "</pre>\n"
      ],
      "text/plain": [
       "\u001b[2;36m                   \u001b[0m\u001b[2;36m \u001b[0m\u001b[34mINFO    \u001b[0m \u001b[1;36m2025\u001b[0m-\u001b[1;36m09\u001b[0m-\u001b[1;36m19\u001b[0m \u001b[1;92m10:03:51\u001b[0m,\u001b[1;36m880\u001b[0m \u001b[1m[\u001b[0mINFO\u001b[1m]\u001b[0m bitcoin_discourse_pipeline: Added   \u001b]8;id=106510;file:///Users/luiscruz/Desktop/bitcoin-sentiment/data-pipeline/steps/reddit_silver.py\u001b\\\u001b[2mreddit_silver.py\u001b[0m\u001b]8;;\u001b\\\u001b[2m:\u001b[0m\u001b]8;id=551251;file:///Users/luiscruz/Desktop/bitcoin-sentiment/data-pipeline/steps/reddit_silver.py#47\u001b\\\u001b[2m47\u001b[0m\u001b]8;;\u001b\\\n",
       "\u001b[2;36m                    \u001b[0m         metadata: original text fields char count                          \u001b[2m                   \u001b[0m\n"
      ]
     },
     "metadata": {},
     "output_type": "display_data"
    },
    {
     "data": {
      "text/html": [
       "<pre style=\"white-space:pre;overflow-x:auto;line-height:normal;font-family:Menlo,'DejaVu Sans Mono',consolas,'Courier New',monospace\"><span style=\"color: #7fbfbf; text-decoration-color: #7fbfbf\">                    </span><span style=\"color: #000080; text-decoration-color: #000080\">INFO    </span> <span style=\"color: #008080; text-decoration-color: #008080; font-weight: bold\">2025</span>-<span style=\"color: #008080; text-decoration-color: #008080; font-weight: bold\">09</span>-<span style=\"color: #008080; text-decoration-color: #008080; font-weight: bold\">19</span> <span style=\"color: #00ff00; text-decoration-color: #00ff00; font-weight: bold\">10:03:51</span>,<span style=\"color: #008080; text-decoration-color: #008080; font-weight: bold\">890</span> <span style=\"font-weight: bold\">[</span>INFO<span style=\"font-weight: bold\">]</span> bitcoin_discourse_pipeline: Removed <a href=\"file:///Users/luiscruz/Desktop/bitcoin-sentiment/data-pipeline/steps/reddit_silver.py\" target=\"_blank\"><span style=\"color: #7f7f7f; text-decoration-color: #7f7f7f\">reddit_silver.py</span></a><span style=\"color: #7f7f7f; text-decoration-color: #7f7f7f\">:</span><a href=\"file:///Users/luiscruz/Desktop/bitcoin-sentiment/data-pipeline/steps/reddit_silver.py#61\" target=\"_blank\"><span style=\"color: #7f7f7f; text-decoration-color: #7f7f7f\">61</span></a>\n",
       "<span style=\"color: #7fbfbf; text-decoration-color: #7fbfbf\">                    </span>         duplicates by filtering equal IDs and text bodies                  <span style=\"color: #7f7f7f; text-decoration-color: #7f7f7f\">                   </span>\n",
       "</pre>\n"
      ],
      "text/plain": [
       "\u001b[2;36m                   \u001b[0m\u001b[2;36m \u001b[0m\u001b[34mINFO    \u001b[0m \u001b[1;36m2025\u001b[0m-\u001b[1;36m09\u001b[0m-\u001b[1;36m19\u001b[0m \u001b[1;92m10:03:51\u001b[0m,\u001b[1;36m890\u001b[0m \u001b[1m[\u001b[0mINFO\u001b[1m]\u001b[0m bitcoin_discourse_pipeline: Removed \u001b]8;id=69122;file:///Users/luiscruz/Desktop/bitcoin-sentiment/data-pipeline/steps/reddit_silver.py\u001b\\\u001b[2mreddit_silver.py\u001b[0m\u001b]8;;\u001b\\\u001b[2m:\u001b[0m\u001b]8;id=440168;file:///Users/luiscruz/Desktop/bitcoin-sentiment/data-pipeline/steps/reddit_silver.py#61\u001b\\\u001b[2m61\u001b[0m\u001b]8;;\u001b\\\n",
       "\u001b[2;36m                    \u001b[0m         duplicates by filtering equal IDs and text bodies                  \u001b[2m                   \u001b[0m\n"
      ]
     },
     "metadata": {},
     "output_type": "display_data"
    },
    {
     "data": {
      "text/html": [
       "<pre style=\"white-space:pre;overflow-x:auto;line-height:normal;font-family:Menlo,'DejaVu Sans Mono',consolas,'Courier New',monospace\"><span style=\"color: #7fbfbf; text-decoration-color: #7fbfbf\">                    </span><span style=\"color: #000080; text-decoration-color: #000080\">INFO    </span> <span style=\"color: #008080; text-decoration-color: #008080; font-weight: bold\">2025</span>-<span style=\"color: #008080; text-decoration-color: #008080; font-weight: bold\">09</span>-<span style=\"color: #008080; text-decoration-color: #008080; font-weight: bold\">19</span> <span style=\"color: #00ff00; text-decoration-color: #00ff00; font-weight: bold\">10:03:51</span>,<span style=\"color: #008080; text-decoration-color: #008080; font-weight: bold\">903</span> <span style=\"font-weight: bold\">[</span>INFO<span style=\"font-weight: bold\">]</span> bitcoin_discourse_pipeline: Filter  <a href=\"file:///Users/luiscruz/Desktop/bitcoin-sentiment/data-pipeline/steps/reddit_silver.py\" target=\"_blank\"><span style=\"color: #7f7f7f; text-decoration-color: #7f7f7f\">reddit_silver.py</span></a><span style=\"color: #7f7f7f; text-decoration-color: #7f7f7f\">:</span><a href=\"file:///Users/luiscruz/Desktop/bitcoin-sentiment/data-pipeline/steps/reddit_silver.py#85\" target=\"_blank\"><span style=\"color: #7f7f7f; text-decoration-color: #7f7f7f\">85</span></a>\n",
       "<span style=\"color: #7fbfbf; text-decoration-color: #7fbfbf\">                    </span>         out rows where all text bodies are empty                           <span style=\"color: #7f7f7f; text-decoration-color: #7f7f7f\">                   </span>\n",
       "</pre>\n"
      ],
      "text/plain": [
       "\u001b[2;36m                   \u001b[0m\u001b[2;36m \u001b[0m\u001b[34mINFO    \u001b[0m \u001b[1;36m2025\u001b[0m-\u001b[1;36m09\u001b[0m-\u001b[1;36m19\u001b[0m \u001b[1;92m10:03:51\u001b[0m,\u001b[1;36m903\u001b[0m \u001b[1m[\u001b[0mINFO\u001b[1m]\u001b[0m bitcoin_discourse_pipeline: Filter  \u001b]8;id=782892;file:///Users/luiscruz/Desktop/bitcoin-sentiment/data-pipeline/steps/reddit_silver.py\u001b\\\u001b[2mreddit_silver.py\u001b[0m\u001b]8;;\u001b\\\u001b[2m:\u001b[0m\u001b]8;id=840300;file:///Users/luiscruz/Desktop/bitcoin-sentiment/data-pipeline/steps/reddit_silver.py#85\u001b\\\u001b[2m85\u001b[0m\u001b]8;;\u001b\\\n",
       "\u001b[2;36m                    \u001b[0m         out rows where all text bodies are empty                           \u001b[2m                   \u001b[0m\n"
      ]
     },
     "metadata": {},
     "output_type": "display_data"
    },
    {
     "data": {
      "text/html": [
       "<pre style=\"white-space:pre;overflow-x:auto;line-height:normal;font-family:Menlo,'DejaVu Sans Mono',consolas,'Courier New',monospace\"><span style=\"color: #7fbfbf; text-decoration-color: #7fbfbf\">[09/19/25 10:03:52] </span><span style=\"color: #000080; text-decoration-color: #000080\">INFO    </span> <span style=\"color: #008080; text-decoration-color: #008080; font-weight: bold\">2025</span>-<span style=\"color: #008080; text-decoration-color: #008080; font-weight: bold\">09</span>-<span style=\"color: #008080; text-decoration-color: #008080; font-weight: bold\">19</span> <span style=\"color: #00ff00; text-decoration-color: #00ff00; font-weight: bold\">10:03:52</span>,<span style=\"color: #008080; text-decoration-color: #008080; font-weight: bold\">285</span> <span style=\"font-weight: bold\">[</span>INFO<span style=\"font-weight: bold\">]</span> bitcoin_discourse_pipeline:         <a href=\"file:///Users/luiscruz/Desktop/bitcoin-sentiment/data-pipeline/steps/reddit_silver.py\" target=\"_blank\"><span style=\"color: #7f7f7f; text-decoration-color: #7f7f7f\">reddit_silver.py</span></a><span style=\"color: #7f7f7f; text-decoration-color: #7f7f7f\">:</span><a href=\"file:///Users/luiscruz/Desktop/bitcoin-sentiment/data-pipeline/steps/reddit_silver.py#98\" target=\"_blank\"><span style=\"color: #7f7f7f; text-decoration-color: #7f7f7f\">98</span></a>\n",
       "<span style=\"color: #7fbfbf; text-decoration-color: #7fbfbf\">                    </span>         Normalized text using helper function                              <span style=\"color: #7f7f7f; text-decoration-color: #7f7f7f\">                   </span>\n",
       "</pre>\n"
      ],
      "text/plain": [
       "\u001b[2;36m[09/19/25 10:03:52]\u001b[0m\u001b[2;36m \u001b[0m\u001b[34mINFO    \u001b[0m \u001b[1;36m2025\u001b[0m-\u001b[1;36m09\u001b[0m-\u001b[1;36m19\u001b[0m \u001b[1;92m10:03:52\u001b[0m,\u001b[1;36m285\u001b[0m \u001b[1m[\u001b[0mINFO\u001b[1m]\u001b[0m bitcoin_discourse_pipeline:         \u001b]8;id=182039;file:///Users/luiscruz/Desktop/bitcoin-sentiment/data-pipeline/steps/reddit_silver.py\u001b\\\u001b[2mreddit_silver.py\u001b[0m\u001b]8;;\u001b\\\u001b[2m:\u001b[0m\u001b]8;id=705451;file:///Users/luiscruz/Desktop/bitcoin-sentiment/data-pipeline/steps/reddit_silver.py#98\u001b\\\u001b[2m98\u001b[0m\u001b]8;;\u001b\\\n",
       "\u001b[2;36m                    \u001b[0m         Normalized text using helper function                              \u001b[2m                   \u001b[0m\n"
      ]
     },
     "metadata": {},
     "output_type": "display_data"
    },
    {
     "data": {
      "text/html": [
       "<pre style=\"white-space:pre;overflow-x:auto;line-height:normal;font-family:Menlo,'DejaVu Sans Mono',consolas,'Courier New',monospace\"><span style=\"color: #7fbfbf; text-decoration-color: #7fbfbf\">                    </span><span style=\"color: #000080; text-decoration-color: #000080\">INFO    </span> <span style=\"color: #008080; text-decoration-color: #008080; font-weight: bold\">2025</span>-<span style=\"color: #008080; text-decoration-color: #008080; font-weight: bold\">09</span>-<span style=\"color: #008080; text-decoration-color: #008080; font-weight: bold\">19</span> <span style=\"color: #00ff00; text-decoration-color: #00ff00; font-weight: bold\">10:03:52</span>,<span style=\"color: #008080; text-decoration-color: #008080; font-weight: bold\">288</span> <span style=\"font-weight: bold\">[</span>INFO<span style=\"font-weight: bold\">]</span> bitcoin_discourse_pipeline: Added  <a href=\"file:///Users/luiscruz/Desktop/bitcoin-sentiment/data-pipeline/steps/reddit_silver.py\" target=\"_blank\"><span style=\"color: #7f7f7f; text-decoration-color: #7f7f7f\">reddit_silver.py</span></a><span style=\"color: #7f7f7f; text-decoration-color: #7f7f7f\">:</span><a href=\"file:///Users/luiscruz/Desktop/bitcoin-sentiment/data-pipeline/steps/reddit_silver.py#108\" target=\"_blank\"><span style=\"color: #7f7f7f; text-decoration-color: #7f7f7f\">108</span></a>\n",
       "<span style=\"color: #7fbfbf; text-decoration-color: #7fbfbf\">                    </span>         metadata: normalized text char count                              <span style=\"color: #7f7f7f; text-decoration-color: #7f7f7f\">                    </span>\n",
       "</pre>\n"
      ],
      "text/plain": [
       "\u001b[2;36m                   \u001b[0m\u001b[2;36m \u001b[0m\u001b[34mINFO    \u001b[0m \u001b[1;36m2025\u001b[0m-\u001b[1;36m09\u001b[0m-\u001b[1;36m19\u001b[0m \u001b[1;92m10:03:52\u001b[0m,\u001b[1;36m288\u001b[0m \u001b[1m[\u001b[0mINFO\u001b[1m]\u001b[0m bitcoin_discourse_pipeline: Added  \u001b]8;id=772232;file:///Users/luiscruz/Desktop/bitcoin-sentiment/data-pipeline/steps/reddit_silver.py\u001b\\\u001b[2mreddit_silver.py\u001b[0m\u001b]8;;\u001b\\\u001b[2m:\u001b[0m\u001b]8;id=794427;file:///Users/luiscruz/Desktop/bitcoin-sentiment/data-pipeline/steps/reddit_silver.py#108\u001b\\\u001b[2m108\u001b[0m\u001b]8;;\u001b\\\n",
       "\u001b[2;36m                    \u001b[0m         metadata: normalized text char count                              \u001b[2m                    \u001b[0m\n"
      ]
     },
     "metadata": {},
     "output_type": "display_data"
    },
    {
     "name": "stderr",
     "output_type": "stream",
     "text": [
      "/Users/luiscruz/Desktop/bitcoin-sentiment/data-pipeline/steps/reddit_silver.py:111: MapWithoutReturnDtypeWarning: 'return_dtype' of function python_udf must be set\n",
      "\n",
      "A later expression might fail because the output type is not known. Set return_dtype=pl.self_dtype() if the type is unchanged, or set the proper output data type.\n",
      "  self.posts_df = self.posts_df.with_columns(\n",
      "/Users/luiscruz/Desktop/bitcoin-sentiment/data-pipeline/steps/reddit_silver.py:115: MapWithoutReturnDtypeWarning: 'return_dtype' of function python_udf must be set\n",
      "\n",
      "A later expression might fail because the output type is not known. Set return_dtype=pl.self_dtype() if the type is unchanged, or set the proper output data type.\n",
      "  self.comments_df = self.comments_df.with_columns(\n"
     ]
    },
    {
     "data": {
      "text/html": [
       "<pre style=\"white-space:pre;overflow-x:auto;line-height:normal;font-family:Menlo,'DejaVu Sans Mono',consolas,'Courier New',monospace\"><span style=\"color: #7fbfbf; text-decoration-color: #7fbfbf\">                    </span><span style=\"color: #000080; text-decoration-color: #000080\">INFO    </span> <span style=\"color: #008080; text-decoration-color: #008080; font-weight: bold\">2025</span>-<span style=\"color: #008080; text-decoration-color: #008080; font-weight: bold\">09</span>-<span style=\"color: #008080; text-decoration-color: #008080; font-weight: bold\">19</span> <span style=\"color: #00ff00; text-decoration-color: #00ff00; font-weight: bold\">10:03:52</span>,<span style=\"color: #008080; text-decoration-color: #008080; font-weight: bold\">296</span> <span style=\"font-weight: bold\">[</span>INFO<span style=\"font-weight: bold\">]</span> bitcoin_discourse_pipeline:        <a href=\"file:///Users/luiscruz/Desktop/bitcoin-sentiment/data-pipeline/steps/reddit_silver.py\" target=\"_blank\"><span style=\"color: #7f7f7f; text-decoration-color: #7f7f7f\">reddit_silver.py</span></a><span style=\"color: #7f7f7f; text-decoration-color: #7f7f7f\">:</span><a href=\"file:///Users/luiscruz/Desktop/bitcoin-sentiment/data-pipeline/steps/reddit_silver.py#119\" target=\"_blank\"><span style=\"color: #7f7f7f; text-decoration-color: #7f7f7f\">119</span></a>\n",
       "<span style=\"color: #7fbfbf; text-decoration-color: #7fbfbf\">                    </span>         Converted unix timestamp to an UTC datetime format                <span style=\"color: #7f7f7f; text-decoration-color: #7f7f7f\">                    </span>\n",
       "</pre>\n"
      ],
      "text/plain": [
       "\u001b[2;36m                   \u001b[0m\u001b[2;36m \u001b[0m\u001b[34mINFO    \u001b[0m \u001b[1;36m2025\u001b[0m-\u001b[1;36m09\u001b[0m-\u001b[1;36m19\u001b[0m \u001b[1;92m10:03:52\u001b[0m,\u001b[1;36m296\u001b[0m \u001b[1m[\u001b[0mINFO\u001b[1m]\u001b[0m bitcoin_discourse_pipeline:        \u001b]8;id=59675;file:///Users/luiscruz/Desktop/bitcoin-sentiment/data-pipeline/steps/reddit_silver.py\u001b\\\u001b[2mreddit_silver.py\u001b[0m\u001b]8;;\u001b\\\u001b[2m:\u001b[0m\u001b]8;id=814835;file:///Users/luiscruz/Desktop/bitcoin-sentiment/data-pipeline/steps/reddit_silver.py#119\u001b\\\u001b[2m119\u001b[0m\u001b]8;;\u001b\\\n",
       "\u001b[2;36m                    \u001b[0m         Converted unix timestamp to an UTC datetime format                \u001b[2m                    \u001b[0m\n"
      ]
     },
     "metadata": {},
     "output_type": "display_data"
    },
    {
     "data": {
      "text/html": [
       "<div><style>\n",
       ".dataframe > thead > tr,\n",
       ".dataframe > tbody > tr {\n",
       "  text-align: right;\n",
       "  white-space: pre-wrap;\n",
       "}\n",
       "</style>\n",
       "<small>shape: (3, 13)</small><table border=\"1\" class=\"dataframe\"><thead><tr><th>origin</th><th>author</th><th>query_start_time</th><th>post_id</th><th>post_title</th><th>post_selftext</th><th>post_created_utc</th><th>original_title_char_count</th><th>original_selftext_char_count</th><th>post_title_normalized</th><th>post_selftext_normalized</th><th>normalized_title_char_count</th><th>normalized_selftext_char_count</th></tr><tr><td>str</td><td>str</td><td>datetime[μs, UTC]</td><td>str</td><td>str</td><td>str</td><td>datetime[μs, UTC]</td><td>u32</td><td>u32</td><td>str</td><td>str</td><td>u32</td><td>u32</td></tr></thead><tbody><tr><td>&quot;reddit&quot;</td><td>&quot;QuickDaikon1&quot;</td><td>2025-09-19 13:03:49.308004 UTC</td><td>&quot;1nl1d2c&quot;</td><td>&quot;Research idea: Modular BCH to …</td><td>&quot;Bitcoin Cash today is a monoli…</td><td>2025-09-19 11:48:14 UTC</td><td>74</td><td>7127</td><td>&quot;research idea modular bch to e…</td><td>&quot;bitcoin cash today is a monoli…</td><td>73</td><td>6653</td></tr><tr><td>&quot;reddit&quot;</td><td>&quot;Local_Tangerine9532&quot;</td><td>2025-09-19 13:03:49.308004 UTC</td><td>&quot;1nl1h1c&quot;</td><td>&quot;Will the btc block size ever i…</td><td>&quot;Let&#x27;s pretend that lightning i…</td><td>2025-09-19 11:53:43 UTC</td><td>38</td><td>570</td><td>&quot;will the btc block size ever i…</td><td>&quot;let s pretend that lightning i…</td><td>37</td><td>512</td></tr><tr><td>&quot;reddit&quot;</td><td>&quot;Teqtoke&quot;</td><td>2025-09-19 13:03:49.308004 UTC</td><td>&quot;1nl0nll&quot;</td><td>&quot;Kraken – the exchange I should…</td><td>&quot;Title really says it all, but …</td><td>2025-09-19 11:11:02 UTC</td><td>71</td><td>874</td><td>&quot;kraken the exchange i should h…</td><td>&quot;title really says it all but i…</td><td>68</td><td>812</td></tr></tbody></table></div>"
      ],
      "text/plain": [
       "shape: (3, 13)\n",
       "┌────────┬────────────┬────────────┬─────────┬───┬────────────┬────────────┬───────────┬───────────┐\n",
       "│ origin ┆ author     ┆ query_star ┆ post_id ┆ … ┆ post_title ┆ post_selft ┆ normalize ┆ normalize │\n",
       "│ ---    ┆ ---        ┆ t_time     ┆ ---     ┆   ┆ _normalize ┆ ext_normal ┆ d_title_c ┆ d_selftex │\n",
       "│ str    ┆ str        ┆ ---        ┆ str     ┆   ┆ d          ┆ ized       ┆ har_count ┆ t_char_co │\n",
       "│        ┆            ┆ datetime[μ ┆         ┆   ┆ ---        ┆ ---        ┆ ---       ┆ unt       │\n",
       "│        ┆            ┆ s, UTC]    ┆         ┆   ┆ str        ┆ str        ┆ u32       ┆ ---       │\n",
       "│        ┆            ┆            ┆         ┆   ┆            ┆            ┆           ┆ u32       │\n",
       "╞════════╪════════════╪════════════╪═════════╪═══╪════════════╪════════════╪═══════════╪═══════════╡\n",
       "│ reddit ┆ QuickDaiko ┆ 2025-09-19 ┆ 1nl1d2c ┆ … ┆ research   ┆ bitcoin    ┆ 73        ┆ 6653      │\n",
       "│        ┆ n1         ┆ 13:03:49.3 ┆         ┆   ┆ idea       ┆ cash today ┆           ┆           │\n",
       "│        ┆            ┆ 08004 UTC  ┆         ┆   ┆ modular    ┆ is a       ┆           ┆           │\n",
       "│        ┆            ┆            ┆         ┆   ┆ bch to e…  ┆ monoli…    ┆           ┆           │\n",
       "│ reddit ┆ Local_Tang ┆ 2025-09-19 ┆ 1nl1h1c ┆ … ┆ will the   ┆ let s      ┆ 37        ┆ 512       │\n",
       "│        ┆ erine9532  ┆ 13:03:49.3 ┆         ┆   ┆ btc block  ┆ pretend    ┆           ┆           │\n",
       "│        ┆            ┆ 08004 UTC  ┆         ┆   ┆ size ever  ┆ that       ┆           ┆           │\n",
       "│        ┆            ┆            ┆         ┆   ┆ i…         ┆ lightning  ┆           ┆           │\n",
       "│        ┆            ┆            ┆         ┆   ┆            ┆ i…         ┆           ┆           │\n",
       "│ reddit ┆ Teqtoke    ┆ 2025-09-19 ┆ 1nl0nll ┆ … ┆ kraken the ┆ title      ┆ 68        ┆ 812       │\n",
       "│        ┆            ┆ 13:03:49.3 ┆         ┆   ┆ exchange i ┆ really     ┆           ┆           │\n",
       "│        ┆            ┆ 08004 UTC  ┆         ┆   ┆ should h…  ┆ says it    ┆           ┆           │\n",
       "│        ┆            ┆            ┆         ┆   ┆            ┆ all but i… ┆           ┆           │\n",
       "└────────┴────────────┴────────────┴─────────┴───┴────────────┴────────────┴───────────┴───────────┘"
      ]
     },
     "execution_count": 2,
     "metadata": {},
     "output_type": "execute_result"
    }
   ],
   "source": [
    "bronze = RedditBronze()\n",
    "bronze_results = bronze.query_reddit_for_discourse()\n",
    "bronze.insert_into_bronze_table(bronze_results)\n",
    "\n",
    "silver = RedditSilver(bronze_results)\n",
    "silver.explode_comments()\n",
    "silver.add_metadata_round_one()\n",
    "silver.remove_dupes()\n",
    "silver.handle_missing()\n",
    "silver.normalize_text()\n",
    "silver.add_metadata_round_two()\n",
    "silver.convert_unix_to_timestamp()\n",
    "\n",
    "silver.posts_df.head()"
   ]
  },
  {
   "cell_type": "code",
   "execution_count": 3,
   "id": "a37a7043",
   "metadata": {},
   "outputs": [
    {
     "data": {
      "text/html": [
       "<pre style=\"white-space:pre;overflow-x:auto;line-height:normal;font-family:Menlo,'DejaVu Sans Mono',consolas,'Courier New',monospace\"><span style=\"color: #7fbfbf; text-decoration-color: #7fbfbf\">[09/19/25 10:04:06] </span><span style=\"color: #000080; text-decoration-color: #000080\">INFO    </span> <span style=\"color: #008080; text-decoration-color: #008080; font-weight: bold\">2025</span>-<span style=\"color: #008080; text-decoration-color: #008080; font-weight: bold\">09</span>-<span style=\"color: #008080; text-decoration-color: #008080; font-weight: bold\">19</span> <span style=\"color: #00ff00; text-decoration-color: #00ff00; font-weight: bold\">10:04:06</span>,<span style=\"color: #008080; text-decoration-color: #008080; font-weight: bold\">149</span> <span style=\"font-weight: bold\">[</span>INFO<span style=\"font-weight: bold\">]</span> bitcoin_discourse_pipeline:         <a href=\"file:///Users/luiscruz/Desktop/bitcoin-sentiment/data-pipeline/steps/reddit_silver.py\" target=\"_blank\"><span style=\"color: #7f7f7f; text-decoration-color: #7f7f7f\">reddit_silver.py</span></a><span style=\"color: #7f7f7f; text-decoration-color: #7f7f7f\">:</span><a href=\"file:///Users/luiscruz/Desktop/bitcoin-sentiment/data-pipeline/steps/reddit_silver.py#22\" target=\"_blank\"><span style=\"color: #7f7f7f; text-decoration-color: #7f7f7f\">22</span></a>\n",
       "<span style=\"color: #7fbfbf; text-decoration-color: #7fbfbf\">                    </span>         Inserted Posts into database                                       <span style=\"color: #7f7f7f; text-decoration-color: #7f7f7f\">                   </span>\n",
       "</pre>\n"
      ],
      "text/plain": [
       "\u001b[2;36m[09/19/25 10:04:06]\u001b[0m\u001b[2;36m \u001b[0m\u001b[34mINFO    \u001b[0m \u001b[1;36m2025\u001b[0m-\u001b[1;36m09\u001b[0m-\u001b[1;36m19\u001b[0m \u001b[1;92m10:04:06\u001b[0m,\u001b[1;36m149\u001b[0m \u001b[1m[\u001b[0mINFO\u001b[1m]\u001b[0m bitcoin_discourse_pipeline:         \u001b]8;id=688597;file:///Users/luiscruz/Desktop/bitcoin-sentiment/data-pipeline/steps/reddit_silver.py\u001b\\\u001b[2mreddit_silver.py\u001b[0m\u001b]8;;\u001b\\\u001b[2m:\u001b[0m\u001b]8;id=375450;file:///Users/luiscruz/Desktop/bitcoin-sentiment/data-pipeline/steps/reddit_silver.py#22\u001b\\\u001b[2m22\u001b[0m\u001b]8;;\u001b\\\n",
       "\u001b[2;36m                    \u001b[0m         Inserted Posts into database                                       \u001b[2m                   \u001b[0m\n"
      ]
     },
     "metadata": {},
     "output_type": "display_data"
    },
    {
     "data": {
      "text/html": [
       "<pre style=\"white-space:pre;overflow-x:auto;line-height:normal;font-family:Menlo,'DejaVu Sans Mono',consolas,'Courier New',monospace\"><span style=\"color: #7fbfbf; text-decoration-color: #7fbfbf\">                    </span><span style=\"color: #000080; text-decoration-color: #000080\">INFO    </span> <span style=\"color: #008080; text-decoration-color: #008080; font-weight: bold\">2025</span>-<span style=\"color: #008080; text-decoration-color: #008080; font-weight: bold\">09</span>-<span style=\"color: #008080; text-decoration-color: #008080; font-weight: bold\">19</span> <span style=\"color: #00ff00; text-decoration-color: #00ff00; font-weight: bold\">10:04:06</span>,<span style=\"color: #008080; text-decoration-color: #008080; font-weight: bold\">218</span> <span style=\"font-weight: bold\">[</span>INFO<span style=\"font-weight: bold\">]</span> bitcoin_discourse_pipeline:         <a href=\"file:///Users/luiscruz/Desktop/bitcoin-sentiment/data-pipeline/steps/reddit_silver.py\" target=\"_blank\"><span style=\"color: #7f7f7f; text-decoration-color: #7f7f7f\">reddit_silver.py</span></a><span style=\"color: #7f7f7f; text-decoration-color: #7f7f7f\">:</span><a href=\"file:///Users/luiscruz/Desktop/bitcoin-sentiment/data-pipeline/steps/reddit_silver.py#24\" target=\"_blank\"><span style=\"color: #7f7f7f; text-decoration-color: #7f7f7f\">24</span></a>\n",
       "<span style=\"color: #7fbfbf; text-decoration-color: #7fbfbf\">                    </span>         Inserted Comments into database                                    <span style=\"color: #7f7f7f; text-decoration-color: #7f7f7f\">                   </span>\n",
       "</pre>\n"
      ],
      "text/plain": [
       "\u001b[2;36m                   \u001b[0m\u001b[2;36m \u001b[0m\u001b[34mINFO    \u001b[0m \u001b[1;36m2025\u001b[0m-\u001b[1;36m09\u001b[0m-\u001b[1;36m19\u001b[0m \u001b[1;92m10:04:06\u001b[0m,\u001b[1;36m218\u001b[0m \u001b[1m[\u001b[0mINFO\u001b[1m]\u001b[0m bitcoin_discourse_pipeline:         \u001b]8;id=294994;file:///Users/luiscruz/Desktop/bitcoin-sentiment/data-pipeline/steps/reddit_silver.py\u001b\\\u001b[2mreddit_silver.py\u001b[0m\u001b]8;;\u001b\\\u001b[2m:\u001b[0m\u001b]8;id=218371;file:///Users/luiscruz/Desktop/bitcoin-sentiment/data-pipeline/steps/reddit_silver.py#24\u001b\\\u001b[2m24\u001b[0m\u001b]8;;\u001b\\\n",
       "\u001b[2;36m                    \u001b[0m         Inserted Comments into database                                    \u001b[2m                   \u001b[0m\n"
      ]
     },
     "metadata": {},
     "output_type": "display_data"
    }
   ],
   "source": [
    "silver.insert_into_silver_tables(silver.posts_df, silver.comments_df)"
   ]
  }
 ],
 "metadata": {
  "kernelspec": {
   "display_name": "Python 3 (ipykernel)",
   "language": "python",
   "name": "python3"
  },
  "language_info": {
   "codemirror_mode": {
    "name": "ipython",
    "version": 3
   },
   "file_extension": ".py",
   "mimetype": "text/x-python",
   "name": "python",
   "nbconvert_exporter": "python",
   "pygments_lexer": "ipython3",
   "version": "3.13.3"
  }
 },
 "nbformat": 4,
 "nbformat_minor": 5
}
